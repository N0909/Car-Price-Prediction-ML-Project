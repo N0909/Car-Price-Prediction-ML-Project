{
 "cells": [
  {
   "cell_type": "markdown",
   "metadata": {},
   "source": [
    "Prediction Model on Car Price Dataset"
   ]
  },
  {
   "cell_type": "code",
   "execution_count": 1,
   "metadata": {},
   "outputs": [],
   "source": [
    "import pandas as pd\n",
    "import numpy as np \n",
    "import seaborn as sn \n",
    "import matplotlib.pyplot as plt"
   ]
  },
  {
   "cell_type": "markdown",
   "metadata": {},
   "source": [
    "Importing Our Dataset"
   ]
  },
  {
   "cell_type": "code",
   "execution_count": 2,
   "metadata": {},
   "outputs": [],
   "source": [
    "df = pd.read_csv(\"car details v4.csv\")"
   ]
  },
  {
   "cell_type": "code",
   "execution_count": 3,
   "metadata": {},
   "outputs": [
    {
     "name": "stdout",
     "output_type": "stream",
     "text": [
      "No of Rows: 2059\n",
      "No of Columns: 20\n"
     ]
    }
   ],
   "source": [
    "print(f\"No of Rows: {df.shape[0]}\")\n",
    "print(f\"No of Columns: {df.shape[1]}\")"
   ]
  },
  {
   "cell_type": "code",
   "execution_count": 4,
   "metadata": {},
   "outputs": [
    {
     "data": {
      "text/html": [
       "<div>\n",
       "<style scoped>\n",
       "    .dataframe tbody tr th:only-of-type {\n",
       "        vertical-align: middle;\n",
       "    }\n",
       "\n",
       "    .dataframe tbody tr th {\n",
       "        vertical-align: top;\n",
       "    }\n",
       "\n",
       "    .dataframe thead th {\n",
       "        text-align: right;\n",
       "    }\n",
       "</style>\n",
       "<table border=\"1\" class=\"dataframe\">\n",
       "  <thead>\n",
       "    <tr style=\"text-align: right;\">\n",
       "      <th></th>\n",
       "      <th>Make</th>\n",
       "      <th>Model</th>\n",
       "      <th>Price</th>\n",
       "      <th>Year</th>\n",
       "      <th>Kilometer</th>\n",
       "      <th>Fuel Type</th>\n",
       "      <th>Transmission</th>\n",
       "      <th>Location</th>\n",
       "      <th>Color</th>\n",
       "      <th>Owner</th>\n",
       "      <th>Seller Type</th>\n",
       "      <th>Engine</th>\n",
       "      <th>Max Power</th>\n",
       "      <th>Max Torque</th>\n",
       "      <th>Drivetrain</th>\n",
       "      <th>Length</th>\n",
       "      <th>Width</th>\n",
       "      <th>Height</th>\n",
       "      <th>Seating Capacity</th>\n",
       "      <th>Fuel Tank Capacity</th>\n",
       "    </tr>\n",
       "  </thead>\n",
       "  <tbody>\n",
       "    <tr>\n",
       "      <th>0</th>\n",
       "      <td>Honda</td>\n",
       "      <td>Amaze 1.2 VX i-VTEC</td>\n",
       "      <td>505000</td>\n",
       "      <td>2017</td>\n",
       "      <td>87150</td>\n",
       "      <td>Petrol</td>\n",
       "      <td>Manual</td>\n",
       "      <td>Pune</td>\n",
       "      <td>Grey</td>\n",
       "      <td>First</td>\n",
       "      <td>Corporate</td>\n",
       "      <td>1198 cc</td>\n",
       "      <td>87 bhp @ 6000 rpm</td>\n",
       "      <td>109 Nm @ 4500 rpm</td>\n",
       "      <td>FWD</td>\n",
       "      <td>3990.0</td>\n",
       "      <td>1680.0</td>\n",
       "      <td>1505.0</td>\n",
       "      <td>5.0</td>\n",
       "      <td>35.0</td>\n",
       "    </tr>\n",
       "    <tr>\n",
       "      <th>1</th>\n",
       "      <td>Maruti Suzuki</td>\n",
       "      <td>Swift DZire VDI</td>\n",
       "      <td>450000</td>\n",
       "      <td>2014</td>\n",
       "      <td>75000</td>\n",
       "      <td>Diesel</td>\n",
       "      <td>Manual</td>\n",
       "      <td>Ludhiana</td>\n",
       "      <td>White</td>\n",
       "      <td>Second</td>\n",
       "      <td>Individual</td>\n",
       "      <td>1248 cc</td>\n",
       "      <td>74 bhp @ 4000 rpm</td>\n",
       "      <td>190 Nm @ 2000 rpm</td>\n",
       "      <td>FWD</td>\n",
       "      <td>3995.0</td>\n",
       "      <td>1695.0</td>\n",
       "      <td>1555.0</td>\n",
       "      <td>5.0</td>\n",
       "      <td>42.0</td>\n",
       "    </tr>\n",
       "    <tr>\n",
       "      <th>2</th>\n",
       "      <td>Hyundai</td>\n",
       "      <td>i10 Magna 1.2 Kappa2</td>\n",
       "      <td>220000</td>\n",
       "      <td>2011</td>\n",
       "      <td>67000</td>\n",
       "      <td>Petrol</td>\n",
       "      <td>Manual</td>\n",
       "      <td>Lucknow</td>\n",
       "      <td>Maroon</td>\n",
       "      <td>First</td>\n",
       "      <td>Individual</td>\n",
       "      <td>1197 cc</td>\n",
       "      <td>79 bhp @ 6000 rpm</td>\n",
       "      <td>112.7619 Nm @ 4000 rpm</td>\n",
       "      <td>FWD</td>\n",
       "      <td>3585.0</td>\n",
       "      <td>1595.0</td>\n",
       "      <td>1550.0</td>\n",
       "      <td>5.0</td>\n",
       "      <td>35.0</td>\n",
       "    </tr>\n",
       "    <tr>\n",
       "      <th>3</th>\n",
       "      <td>Toyota</td>\n",
       "      <td>Glanza G</td>\n",
       "      <td>799000</td>\n",
       "      <td>2019</td>\n",
       "      <td>37500</td>\n",
       "      <td>Petrol</td>\n",
       "      <td>Manual</td>\n",
       "      <td>Mangalore</td>\n",
       "      <td>Red</td>\n",
       "      <td>First</td>\n",
       "      <td>Individual</td>\n",
       "      <td>1197 cc</td>\n",
       "      <td>82 bhp @ 6000 rpm</td>\n",
       "      <td>113 Nm @ 4200 rpm</td>\n",
       "      <td>FWD</td>\n",
       "      <td>3995.0</td>\n",
       "      <td>1745.0</td>\n",
       "      <td>1510.0</td>\n",
       "      <td>5.0</td>\n",
       "      <td>37.0</td>\n",
       "    </tr>\n",
       "    <tr>\n",
       "      <th>4</th>\n",
       "      <td>Toyota</td>\n",
       "      <td>Innova 2.4 VX 7 STR [2016-2020]</td>\n",
       "      <td>1950000</td>\n",
       "      <td>2018</td>\n",
       "      <td>69000</td>\n",
       "      <td>Diesel</td>\n",
       "      <td>Manual</td>\n",
       "      <td>Mumbai</td>\n",
       "      <td>Grey</td>\n",
       "      <td>First</td>\n",
       "      <td>Individual</td>\n",
       "      <td>2393 cc</td>\n",
       "      <td>148 bhp @ 3400 rpm</td>\n",
       "      <td>343 Nm @ 1400 rpm</td>\n",
       "      <td>RWD</td>\n",
       "      <td>4735.0</td>\n",
       "      <td>1830.0</td>\n",
       "      <td>1795.0</td>\n",
       "      <td>7.0</td>\n",
       "      <td>55.0</td>\n",
       "    </tr>\n",
       "  </tbody>\n",
       "</table>\n",
       "</div>"
      ],
      "text/plain": [
       "            Make                            Model    Price  Year  Kilometer  \\\n",
       "0          Honda              Amaze 1.2 VX i-VTEC   505000  2017      87150   \n",
       "1  Maruti Suzuki                  Swift DZire VDI   450000  2014      75000   \n",
       "2        Hyundai             i10 Magna 1.2 Kappa2   220000  2011      67000   \n",
       "3         Toyota                         Glanza G   799000  2019      37500   \n",
       "4         Toyota  Innova 2.4 VX 7 STR [2016-2020]  1950000  2018      69000   \n",
       "\n",
       "  Fuel Type Transmission   Location   Color   Owner Seller Type   Engine  \\\n",
       "0    Petrol       Manual       Pune    Grey   First   Corporate  1198 cc   \n",
       "1    Diesel       Manual   Ludhiana   White  Second  Individual  1248 cc   \n",
       "2    Petrol       Manual    Lucknow  Maroon   First  Individual  1197 cc   \n",
       "3    Petrol       Manual  Mangalore     Red   First  Individual  1197 cc   \n",
       "4    Diesel       Manual     Mumbai    Grey   First  Individual  2393 cc   \n",
       "\n",
       "            Max Power              Max Torque Drivetrain  Length   Width  \\\n",
       "0   87 bhp @ 6000 rpm       109 Nm @ 4500 rpm        FWD  3990.0  1680.0   \n",
       "1   74 bhp @ 4000 rpm       190 Nm @ 2000 rpm        FWD  3995.0  1695.0   \n",
       "2   79 bhp @ 6000 rpm  112.7619 Nm @ 4000 rpm        FWD  3585.0  1595.0   \n",
       "3   82 bhp @ 6000 rpm       113 Nm @ 4200 rpm        FWD  3995.0  1745.0   \n",
       "4  148 bhp @ 3400 rpm       343 Nm @ 1400 rpm        RWD  4735.0  1830.0   \n",
       "\n",
       "   Height  Seating Capacity  Fuel Tank Capacity  \n",
       "0  1505.0               5.0                35.0  \n",
       "1  1555.0               5.0                42.0  \n",
       "2  1550.0               5.0                35.0  \n",
       "3  1510.0               5.0                37.0  \n",
       "4  1795.0               7.0                55.0  "
      ]
     },
     "execution_count": 4,
     "metadata": {},
     "output_type": "execute_result"
    }
   ],
   "source": [
    "df.head()"
   ]
  },
  {
   "cell_type": "markdown",
   "metadata": {},
   "source": [
    "Getting Information of Our Dataset"
   ]
  },
  {
   "cell_type": "code",
   "execution_count": 5,
   "metadata": {},
   "outputs": [
    {
     "name": "stdout",
     "output_type": "stream",
     "text": [
      "<class 'pandas.core.frame.DataFrame'>\n",
      "RangeIndex: 2059 entries, 0 to 2058\n",
      "Data columns (total 20 columns):\n",
      " #   Column              Non-Null Count  Dtype  \n",
      "---  ------              --------------  -----  \n",
      " 0   Make                2059 non-null   object \n",
      " 1   Model               2059 non-null   object \n",
      " 2   Price               2059 non-null   int64  \n",
      " 3   Year                2059 non-null   int64  \n",
      " 4   Kilometer           2059 non-null   int64  \n",
      " 5   Fuel Type           2059 non-null   object \n",
      " 6   Transmission        2059 non-null   object \n",
      " 7   Location            2059 non-null   object \n",
      " 8   Color               2059 non-null   object \n",
      " 9   Owner               2059 non-null   object \n",
      " 10  Seller Type         2059 non-null   object \n",
      " 11  Engine              1979 non-null   object \n",
      " 12  Max Power           1979 non-null   object \n",
      " 13  Max Torque          1979 non-null   object \n",
      " 14  Drivetrain          1923 non-null   object \n",
      " 15  Length              1995 non-null   float64\n",
      " 16  Width               1995 non-null   float64\n",
      " 17  Height              1995 non-null   float64\n",
      " 18  Seating Capacity    1995 non-null   float64\n",
      " 19  Fuel Tank Capacity  1946 non-null   float64\n",
      "dtypes: float64(5), int64(3), object(12)\n",
      "memory usage: 321.8+ KB\n"
     ]
    }
   ],
   "source": [
    "df.info()"
   ]
  },
  {
   "cell_type": "markdown",
   "metadata": {},
   "source": [
    "Exploring Our Dataset"
   ]
  },
  {
   "cell_type": "markdown",
   "metadata": {},
   "source": [
    "Checking features attribute which contains null value"
   ]
  },
  {
   "cell_type": "code",
   "execution_count": 6,
   "metadata": {},
   "outputs": [
    {
     "data": {
      "text/plain": [
       "Make                  0.000000\n",
       "Model                 0.000000\n",
       "Price                 0.000000\n",
       "Year                  0.000000\n",
       "Kilometer             0.000000\n",
       "Fuel Type             0.000000\n",
       "Transmission          0.000000\n",
       "Location              0.000000\n",
       "Color                 0.000000\n",
       "Owner                 0.000000\n",
       "Seller Type           0.000000\n",
       "Engine                3.885381\n",
       "Max Power             3.885381\n",
       "Max Torque            3.885381\n",
       "Drivetrain            6.605148\n",
       "Length                3.108305\n",
       "Width                 3.108305\n",
       "Height                3.108305\n",
       "Seating Capacity      3.108305\n",
       "Fuel Tank Capacity    5.488101\n",
       "dtype: float64"
      ]
     },
     "execution_count": 6,
     "metadata": {},
     "output_type": "execute_result"
    }
   ],
   "source": [
    "df.isnull().mean()*100"
   ]
  },
  {
   "cell_type": "code",
   "execution_count": 7,
   "metadata": {},
   "outputs": [],
   "source": [
    "df.dropna(inplace=True)"
   ]
  },
  {
   "cell_type": "code",
   "execution_count": 8,
   "metadata": {},
   "outputs": [
    {
     "name": "stdout",
     "output_type": "stream",
     "text": [
      "No of Rows: 1874\n",
      "No of Columns: 20\n"
     ]
    }
   ],
   "source": [
    "print(f\"No of Rows: {df.shape[0]}\")\n",
    "print(f\"No of Columns: {df.shape[1]}\")"
   ]
  },
  {
   "cell_type": "code",
   "execution_count": 9,
   "metadata": {},
   "outputs": [
    {
     "data": {
      "text/plain": [
       "Make                  0\n",
       "Model                 0\n",
       "Price                 0\n",
       "Year                  0\n",
       "Kilometer             0\n",
       "Fuel Type             0\n",
       "Transmission          0\n",
       "Location              0\n",
       "Color                 0\n",
       "Owner                 0\n",
       "Seller Type           0\n",
       "Engine                0\n",
       "Max Power             0\n",
       "Max Torque            0\n",
       "Drivetrain            0\n",
       "Length                0\n",
       "Width                 0\n",
       "Height                0\n",
       "Seating Capacity      0\n",
       "Fuel Tank Capacity    0\n",
       "dtype: int64"
      ]
     },
     "execution_count": 9,
     "metadata": {},
     "output_type": "execute_result"
    }
   ],
   "source": [
    "df.isnull().sum()"
   ]
  },
  {
   "cell_type": "code",
   "execution_count": 10,
   "metadata": {},
   "outputs": [
    {
     "name": "stderr",
     "output_type": "stream",
     "text": [
      "C:\\Users\\meetn\\AppData\\Local\\Temp\\ipykernel_2724\\2162858153.py:1: UserWarning: \n",
      "\n",
      "`distplot` is a deprecated function and will be removed in seaborn v0.14.0.\n",
      "\n",
      "Please adapt your code to use either `displot` (a figure-level function with\n",
      "similar flexibility) or `histplot` (an axes-level function for histograms).\n",
      "\n",
      "For a guide to updating your code to use the new functions, please see\n",
      "https://gist.github.com/mwaskom/de44147ed2974457ad6372750bbe5751\n",
      "\n",
      "  sn.distplot(df['Price'])\n",
      "c:\\Users\\meetn\\AppData\\Local\\Programs\\Python\\Python311\\Lib\\site-packages\\seaborn\\_oldcore.py:1119: FutureWarning: use_inf_as_na option is deprecated and will be removed in a future version. Convert inf values to NaN before operating instead.\n",
      "  with pd.option_context('mode.use_inf_as_na', True):\n"
     ]
    },
    {
     "data": {
      "text/plain": [
       "<Axes: xlabel='Price', ylabel='Density'>"
      ]
     },
     "execution_count": 10,
     "metadata": {},
     "output_type": "execute_result"
    },
    {
     "data": {
      "image/png": "[encoded data removed]",
      "text/plain": [
       "<Figure size 640x480 with 1 Axes>"
      ]
     },
     "metadata": {},
     "output_type": "display_data"
    }
   ],
   "source": [
    "sn.distplot(df['Price'])"
   ]
  },
  {
   "cell_type": "code",
   "execution_count": 11,
   "metadata": {},
   "outputs": [
    {
     "data": {
      "text/html": [
       "<div>\n",
       "<style scoped>\n",
       "    .dataframe tbody tr th:only-of-type {\n",
       "        vertical-align: middle;\n",
       "    }\n",
       "\n",
       "    .dataframe tbody tr th {\n",
       "        vertical-align: top;\n",
       "    }\n",
       "\n",
       "    .dataframe thead th {\n",
       "        text-align: right;\n",
       "    }\n",
       "</style>\n",
       "<table border=\"1\" class=\"dataframe\">\n",
       "  <thead>\n",
       "    <tr style=\"text-align: right;\">\n",
       "      <th></th>\n",
       "      <th>Price</th>\n",
       "      <th>Year</th>\n",
       "      <th>Kilometer</th>\n",
       "      <th>Length</th>\n",
       "      <th>Width</th>\n",
       "      <th>Height</th>\n",
       "      <th>Seating Capacity</th>\n",
       "      <th>Fuel Tank Capacity</th>\n",
       "    </tr>\n",
       "  </thead>\n",
       "  <tbody>\n",
       "    <tr>\n",
       "      <th>Price</th>\n",
       "      <td>1.000000</td>\n",
       "      <td>0.309381</td>\n",
       "      <td>-0.147276</td>\n",
       "      <td>0.568875</td>\n",
       "      <td>0.577100</td>\n",
       "      <td>0.092968</td>\n",
       "      <td>-0.024879</td>\n",
       "      <td>0.586109</td>\n",
       "    </tr>\n",
       "    <tr>\n",
       "      <th>Year</th>\n",
       "      <td>0.309381</td>\n",
       "      <td>1.000000</td>\n",
       "      <td>-0.291740</td>\n",
       "      <td>0.085178</td>\n",
       "      <td>0.182220</td>\n",
       "      <td>0.126849</td>\n",
       "      <td>-0.000113</td>\n",
       "      <td>0.044859</td>\n",
       "    </tr>\n",
       "    <tr>\n",
       "      <th>Kilometer</th>\n",
       "      <td>-0.147276</td>\n",
       "      <td>-0.291740</td>\n",
       "      <td>1.000000</td>\n",
       "      <td>0.037817</td>\n",
       "      <td>0.008479</td>\n",
       "      <td>0.085728</td>\n",
       "      <td>0.111103</td>\n",
       "      <td>0.052447</td>\n",
       "    </tr>\n",
       "    <tr>\n",
       "      <th>Length</th>\n",
       "      <td>0.568875</td>\n",
       "      <td>0.085178</td>\n",
       "      <td>0.037817</td>\n",
       "      <td>1.000000</td>\n",
       "      <td>0.797228</td>\n",
       "      <td>0.194704</td>\n",
       "      <td>0.298527</td>\n",
       "      <td>0.809812</td>\n",
       "    </tr>\n",
       "    <tr>\n",
       "      <th>Width</th>\n",
       "      <td>0.577100</td>\n",
       "      <td>0.182220</td>\n",
       "      <td>0.008479</td>\n",
       "      <td>0.797228</td>\n",
       "      <td>1.000000</td>\n",
       "      <td>0.326928</td>\n",
       "      <td>0.229056</td>\n",
       "      <td>0.791316</td>\n",
       "    </tr>\n",
       "    <tr>\n",
       "      <th>Height</th>\n",
       "      <td>0.092968</td>\n",
       "      <td>0.126849</td>\n",
       "      <td>0.085728</td>\n",
       "      <td>0.194704</td>\n",
       "      <td>0.326928</td>\n",
       "      <td>1.000000</td>\n",
       "      <td>0.695373</td>\n",
       "      <td>0.408717</td>\n",
       "    </tr>\n",
       "    <tr>\n",
       "      <th>Seating Capacity</th>\n",
       "      <td>-0.024879</td>\n",
       "      <td>-0.000113</td>\n",
       "      <td>0.111103</td>\n",
       "      <td>0.298527</td>\n",
       "      <td>0.229056</td>\n",
       "      <td>0.695373</td>\n",
       "      <td>1.000000</td>\n",
       "      <td>0.313928</td>\n",
       "    </tr>\n",
       "    <tr>\n",
       "      <th>Fuel Tank Capacity</th>\n",
       "      <td>0.586109</td>\n",
       "      <td>0.044859</td>\n",
       "      <td>0.052447</td>\n",
       "      <td>0.809812</td>\n",
       "      <td>0.791316</td>\n",
       "      <td>0.408717</td>\n",
       "      <td>0.313928</td>\n",
       "      <td>1.000000</td>\n",
       "    </tr>\n",
       "  </tbody>\n",
       "</table>\n",
       "</div>"
      ],
      "text/plain": [
       "                       Price      Year  Kilometer    Length     Width  \\\n",
       "Price               1.000000  0.309381  -0.147276  0.568875  0.577100   \n",
       "Year                0.309381  1.000000  -0.291740  0.085178  0.182220   \n",
       "Kilometer          -0.147276 -0.291740   1.000000  0.037817  0.008479   \n",
       "Length              0.568875  0.085178   0.037817  1.000000  0.797228   \n",
       "Width               0.577100  0.182220   0.008479  0.797228  1.000000   \n",
       "Height              0.092968  0.126849   0.085728  0.194704  0.326928   \n",
       "Seating Capacity   -0.024879 -0.000113   0.111103  0.298527  0.229056   \n",
       "Fuel Tank Capacity  0.586109  0.044859   0.052447  0.809812  0.791316   \n",
       "\n",
       "                      Height  Seating Capacity  Fuel Tank Capacity  \n",
       "Price               0.092968         -0.024879            0.586109  \n",
       "Year                0.126849         -0.000113            0.044859  \n",
       "Kilometer           0.085728          0.111103            0.052447  \n",
       "Length              0.194704          0.298527            0.809812  \n",
       "Width               0.326928          0.229056            0.791316  \n",
       "Height              1.000000          0.695373            0.408717  \n",
       "Seating Capacity    0.695373          1.000000            0.313928  \n",
       "Fuel Tank Capacity  0.408717          0.313928            1.000000  "
      ]
     },
     "execution_count": 11,
     "metadata": {},
     "output_type": "execute_result"
    }
   ],
   "source": [
    "df.corr(numeric_only=True)"
   ]
  },
  {
   "cell_type": "markdown",
   "metadata": {},
   "source": [
    "Now Working on Make Column"
   ]
  },
  {
   "cell_type": "code",
   "execution_count": 12,
   "metadata": {},
   "outputs": [
    {
     "data": {
      "text/plain": [
       "<Axes: xlabel='Make'>"
      ]
     },
     "execution_count": 12,
     "metadata": {},
     "output_type": "execute_result"
    },
    {
     "data": {
      "image/png": "[encoded data removed]",
      "text/plain": [
       "<Figure size 640x480 with 1 Axes>"
      ]
     },
     "metadata": {},
     "output_type": "display_data"
    }
   ],
   "source": [
    "df['Make'].value_counts().plot(kind='bar')"
   ]
  },
  {
   "cell_type": "markdown",
   "metadata": {},
   "source": [
    "this will replace values which have count less than 30 to NaN value"
   ]
  },
  {
   "cell_type": "code",
   "execution_count": 13,
   "metadata": {},
   "outputs": [],
   "source": [
    "m = df['Make'].isin(df['Make'].value_counts().index[df['Make'].value_counts()<30])"
   ]
  },
  {
   "cell_type": "code",
   "execution_count": 14,
   "metadata": {},
   "outputs": [],
   "source": [
    "df.loc[m,'Make'] = np.NaN"
   ]
  },
  {
   "cell_type": "code",
   "execution_count": 15,
   "metadata": {},
   "outputs": [
    {
     "data": {
      "text/plain": [
       "Make\n",
       "Maruti Suzuki    398\n",
       "Hyundai          333\n",
       "Mercedes-Benz    159\n",
       "Honda            149\n",
       "Toyota           123\n",
       "Audi             118\n",
       "Mahindra         110\n",
       "BMW               89\n",
       "Tata              47\n",
       "Ford              47\n",
       "Renault           43\n",
       "Volkswagen        42\n",
       "Skoda             37\n",
       "Land Rover        30\n",
       "Name: count, dtype: int64"
      ]
     },
     "execution_count": 15,
     "metadata": {},
     "output_type": "execute_result"
    }
   ],
   "source": [
    "df['Make'].value_counts()"
   ]
  },
  {
   "cell_type": "code",
   "execution_count": 16,
   "metadata": {},
   "outputs": [
    {
     "data": {
      "text/plain": [
       "149"
      ]
     },
     "execution_count": 16,
     "metadata": {},
     "output_type": "execute_result"
    }
   ],
   "source": [
    "df['Make'].isnull().sum()"
   ]
  },
  {
   "cell_type": "markdown",
   "metadata": {},
   "source": [
    "filling Null value"
   ]
  },
  {
   "cell_type": "code",
   "execution_count": 17,
   "metadata": {},
   "outputs": [],
   "source": [
    "df['Make'].fillna(value='Other',inplace=True)"
   ]
  },
  {
   "cell_type": "code",
   "execution_count": 18,
   "metadata": {},
   "outputs": [
    {
     "data": {
      "text/plain": [
       "Make\n",
       "Maruti Suzuki    398\n",
       "Hyundai          333\n",
       "Mercedes-Benz    159\n",
       "Honda            149\n",
       "Other            149\n",
       "Toyota           123\n",
       "Audi             118\n",
       "Mahindra         110\n",
       "BMW               89\n",
       "Tata              47\n",
       "Ford              47\n",
       "Renault           43\n",
       "Volkswagen        42\n",
       "Skoda             37\n",
       "Land Rover        30\n",
       "Name: count, dtype: int64"
      ]
     },
     "execution_count": 18,
     "metadata": {},
     "output_type": "execute_result"
    }
   ],
   "source": [
    "df['Make'].value_counts()"
   ]
  },
  {
   "cell_type": "markdown",
   "metadata": {},
   "source": [
    "now working on Engine feature"
   ]
  },
  {
   "cell_type": "code",
   "execution_count": 19,
   "metadata": {},
   "outputs": [],
   "source": [
    "df['Engine'] = df['Engine'].map(lambda x:x.strip('cc'))"
   ]
  },
  {
   "cell_type": "code",
   "execution_count": 20,
   "metadata": {},
   "outputs": [],
   "source": [
    "df['Engine'] = df['Engine'].astype(int)"
   ]
  },
  {
   "cell_type": "markdown",
   "metadata": {},
   "source": [
    "Working On Max Power \n",
    "\n",
    "i will split Max Power Feature into two feature one is max power and other is power RPM"
   ]
  },
  {
   "cell_type": "code",
   "execution_count": 21,
   "metadata": {},
   "outputs": [
    {
     "data": {
      "text/plain": [
       "0        87 bhp @ 6000 rpm\n",
       "1        74 bhp @ 4000 rpm\n",
       "2        79 bhp @ 6000 rpm\n",
       "3        82 bhp @ 6000 rpm\n",
       "4       148 bhp @ 3400 rpm\n",
       "               ...        \n",
       "2053     85 bhp @ 6000 rpm\n",
       "2054    138 bhp @ 3750 rpm\n",
       "2055     55 bhp @ 5500 rpm\n",
       "2056     70 bhp @ 6250 rpm\n",
       "2057    188 bhp @ 4000 rpm\n",
       "Name: Max Power, Length: 1874, dtype: object"
      ]
     },
     "execution_count": 21,
     "metadata": {},
     "output_type": "execute_result"
    }
   ],
   "source": [
    "df['Max Power']"
   ]
  },
  {
   "cell_type": "markdown",
   "metadata": {},
   "source": [
    "creating Power RPM Feature by spliting max Power on the basis of '@'"
   ]
  },
  {
   "cell_type": "code",
   "execution_count": 22,
   "metadata": {},
   "outputs": [],
   "source": [
    "df['Power RPM'] = df['Max Power'].map(lambda x:x.split('@')[1]) "
   ]
  },
  {
   "cell_type": "code",
   "execution_count": 23,
   "metadata": {},
   "outputs": [
    {
     "data": {
      "text/plain": [
       "0        6000 rpm\n",
       "1        4000 rpm\n",
       "2        6000 rpm\n",
       "3        6000 rpm\n",
       "4        3400 rpm\n",
       "          ...    \n",
       "2053     6000 rpm\n",
       "2054     3750 rpm\n",
       "2055     5500 rpm\n",
       "2056     6250 rpm\n",
       "2057     4000 rpm\n",
       "Name: Power RPM, Length: 1874, dtype: object"
      ]
     },
     "execution_count": 23,
     "metadata": {},
     "output_type": "execute_result"
    }
   ],
   "source": [
    "df['Power RPM']"
   ]
  },
  {
   "cell_type": "markdown",
   "metadata": {},
   "source": [
    "spliting the Power RPM feature ont the basis of rpm"
   ]
  },
  {
   "cell_type": "code",
   "execution_count": 24,
   "metadata": {},
   "outputs": [],
   "source": [
    "df['Power RPM'] = df['Power RPM'].map(lambda x:x.split('rpm')[0])"
   ]
  },
  {
   "cell_type": "markdown",
   "metadata": {},
   "source": [
    "finding the mode value to replace ''"
   ]
  },
  {
   "cell_type": "code",
   "execution_count": 25,
   "metadata": {},
   "outputs": [
    {
     "data": {
      "text/plain": [
       "0     6000 \n",
       "Name: Power RPM, dtype: object"
      ]
     },
     "execution_count": 25,
     "metadata": {},
     "output_type": "execute_result"
    }
   ],
   "source": [
    "df['Power RPM'].mode()"
   ]
  },
  {
   "cell_type": "code",
   "execution_count": 26,
   "metadata": {},
   "outputs": [],
   "source": [
    "df['Power RPM'] = df['Power RPM'].replace(to_replace='',value='6000').astype(int)"
   ]
  },
  {
   "cell_type": "markdown",
   "metadata": {},
   "source": [
    "so now Power RPM is created now i work on Max Power"
   ]
  },
  {
   "cell_type": "code",
   "execution_count": 27,
   "metadata": {},
   "outputs": [],
   "source": [
    "df['Max Power'] = df['Max Power'].map(lambda x:x.split('@')[0])"
   ]
  },
  {
   "cell_type": "code",
   "execution_count": 28,
   "metadata": {},
   "outputs": [],
   "source": [
    "df['Max Power'] = df['Max Power'].map(lambda x:x.split('bhp')[0])"
   ]
  },
  {
   "cell_type": "code",
   "execution_count": 29,
   "metadata": {},
   "outputs": [
    {
     "data": {
      "text/plain": [
       "0    89 \n",
       "Name: Max Power, dtype: object"
      ]
     },
     "execution_count": 29,
     "metadata": {},
     "output_type": "execute_result"
    }
   ],
   "source": [
    "df['Max Power'].mode()"
   ]
  },
  {
   "cell_type": "code",
   "execution_count": 30,
   "metadata": {},
   "outputs": [],
   "source": [
    "df['Max Power'] = df['Max Power'].replace(to_replace='',value='89').astype(float)"
   ]
  },
  {
   "cell_type": "code",
   "execution_count": 31,
   "metadata": {},
   "outputs": [
    {
     "data": {
      "text/plain": [
       "0        87.0\n",
       "1        74.0\n",
       "2        79.0\n",
       "3        82.0\n",
       "4       148.0\n",
       "        ...  \n",
       "2053     85.0\n",
       "2054    138.0\n",
       "2055     55.0\n",
       "2056     70.0\n",
       "2057    188.0\n",
       "Name: Max Power, Length: 1874, dtype: float64"
      ]
     },
     "execution_count": 31,
     "metadata": {},
     "output_type": "execute_result"
    }
   ],
   "source": [
    "df['Max Power']"
   ]
  },
  {
   "cell_type": "markdown",
   "metadata": {},
   "source": [
    "Now Working On Max Torque Feature (Repeating Same step as Max Power)"
   ]
  },
  {
   "cell_type": "code",
   "execution_count": 32,
   "metadata": {},
   "outputs": [
    {
     "data": {
      "text/plain": [
       "0            109 Nm @ 4500 rpm\n",
       "1            190 Nm @ 2000 rpm\n",
       "2       112.7619 Nm @ 4000 rpm\n",
       "3            113 Nm @ 4200 rpm\n",
       "4            343 Nm @ 1400 rpm\n",
       "                 ...          \n",
       "2053         113 Nm @ 4500 rpm\n",
       "2054         330 Nm @ 1600 rpm\n",
       "2055          75 Nm @ 4000 rpm\n",
       "2056         102 Nm @ 4000 rpm\n",
       "2057         400 Nm @ 1750 rpm\n",
       "Name: Max Torque, Length: 1874, dtype: object"
      ]
     },
     "execution_count": 32,
     "metadata": {},
     "output_type": "execute_result"
    }
   ],
   "source": [
    "df['Max Torque']"
   ]
  },
  {
   "cell_type": "code",
   "execution_count": 33,
   "metadata": {},
   "outputs": [],
   "source": [
    "df['Torque RPM'] = df['Max Torque'].map(lambda x:x.split('@')[1])"
   ]
  },
  {
   "cell_type": "code",
   "execution_count": 34,
   "metadata": {},
   "outputs": [],
   "source": [
    "df['Torque RPM'] = df['Torque RPM'].map(lambda x:x.split('rpm')[0])"
   ]
  },
  {
   "cell_type": "code",
   "execution_count": 35,
   "metadata": {},
   "outputs": [],
   "source": [
    "df['Torque RPM'] = df['Torque RPM'].astype(int)"
   ]
  },
  {
   "cell_type": "code",
   "execution_count": 36,
   "metadata": {},
   "outputs": [
    {
     "data": {
      "text/plain": [
       "0       4500\n",
       "1       2000\n",
       "2       4000\n",
       "3       4200\n",
       "4       1400\n",
       "        ... \n",
       "2053    4500\n",
       "2054    1600\n",
       "2055    4000\n",
       "2056    4000\n",
       "2057    1750\n",
       "Name: Torque RPM, Length: 1874, dtype: int32"
      ]
     },
     "execution_count": 36,
     "metadata": {},
     "output_type": "execute_result"
    }
   ],
   "source": [
    "df['Torque RPM']"
   ]
  },
  {
   "cell_type": "markdown",
   "metadata": {},
   "source": [
    "Now Max Torque"
   ]
  },
  {
   "cell_type": "code",
   "execution_count": 37,
   "metadata": {},
   "outputs": [],
   "source": [
    "df['Max Torque'] = df['Max Torque'].map(lambda x:x.split('@')[0])"
   ]
  },
  {
   "cell_type": "code",
   "execution_count": 38,
   "metadata": {},
   "outputs": [],
   "source": [
    "df['Max Torque'] = df['Max Torque'].map(lambda x:x.split('Nm')[0]).astype(float)"
   ]
  },
  {
   "cell_type": "code",
   "execution_count": 39,
   "metadata": {},
   "outputs": [
    {
     "data": {
      "text/plain": [
       "0       109.0000\n",
       "1       190.0000\n",
       "2       112.7619\n",
       "3       113.0000\n",
       "4       343.0000\n",
       "          ...   \n",
       "2053    113.0000\n",
       "2054    330.0000\n",
       "2055     75.0000\n",
       "2056    102.0000\n",
       "2057    400.0000\n",
       "Name: Max Torque, Length: 1874, dtype: float64"
      ]
     },
     "execution_count": 39,
     "metadata": {},
     "output_type": "execute_result"
    }
   ],
   "source": [
    "df['Max Torque']"
   ]
  },
  {
   "cell_type": "markdown",
   "metadata": {},
   "source": [
    "Working On Fuel Type"
   ]
  },
  {
   "cell_type": "code",
   "execution_count": 40,
   "metadata": {},
   "outputs": [
    {
     "data": {
      "text/plain": [
       "Fuel Type\n",
       "Diesel          954\n",
       "Petrol          866\n",
       "CNG              45\n",
       "LPG               4\n",
       "Hybrid            3\n",
       "CNG + CNG         1\n",
       "Petrol + CNG      1\n",
       "Name: count, dtype: int64"
      ]
     },
     "execution_count": 40,
     "metadata": {},
     "output_type": "execute_result"
    }
   ],
   "source": [
    "df['Fuel Type'].value_counts()"
   ]
  },
  {
   "cell_type": "markdown",
   "metadata": {},
   "source": [
    "Dropping CNG+CNG and Petrol + CNG"
   ]
  },
  {
   "cell_type": "code",
   "execution_count": 41,
   "metadata": {},
   "outputs": [
    {
     "data": {
      "text/plain": [
       "428    CNG + CNG\n",
       "Name: Fuel Type, dtype: object"
      ]
     },
     "execution_count": 41,
     "metadata": {},
     "output_type": "execute_result"
    }
   ],
   "source": [
    "df['Fuel Type'][df['Fuel Type']=='CNG + CNG']"
   ]
  },
  {
   "cell_type": "code",
   "execution_count": 42,
   "metadata": {},
   "outputs": [
    {
     "data": {
      "text/plain": [
       "1660    Petrol + CNG\n",
       "Name: Fuel Type, dtype: object"
      ]
     },
     "execution_count": 42,
     "metadata": {},
     "output_type": "execute_result"
    }
   ],
   "source": [
    "df['Fuel Type'][df['Fuel Type']=='Petrol + CNG']"
   ]
  },
  {
   "cell_type": "code",
   "execution_count": 43,
   "metadata": {},
   "outputs": [],
   "source": [
    "df.drop([428,1660],axis=0,inplace=True)"
   ]
  },
  {
   "cell_type": "code",
   "execution_count": 44,
   "metadata": {},
   "outputs": [
    {
     "data": {
      "text/html": [
       "<div>\n",
       "<style scoped>\n",
       "    .dataframe tbody tr th:only-of-type {\n",
       "        vertical-align: middle;\n",
       "    }\n",
       "\n",
       "    .dataframe tbody tr th {\n",
       "        vertical-align: top;\n",
       "    }\n",
       "\n",
       "    .dataframe thead th {\n",
       "        text-align: right;\n",
       "    }\n",
       "</style>\n",
       "<table border=\"1\" class=\"dataframe\">\n",
       "  <thead>\n",
       "    <tr style=\"text-align: right;\">\n",
       "      <th></th>\n",
       "      <th>Make</th>\n",
       "      <th>Model</th>\n",
       "      <th>Price</th>\n",
       "      <th>Year</th>\n",
       "      <th>Kilometer</th>\n",
       "      <th>Fuel Type</th>\n",
       "      <th>Transmission</th>\n",
       "      <th>Location</th>\n",
       "      <th>Color</th>\n",
       "      <th>Owner</th>\n",
       "      <th>...</th>\n",
       "      <th>Max Power</th>\n",
       "      <th>Max Torque</th>\n",
       "      <th>Drivetrain</th>\n",
       "      <th>Length</th>\n",
       "      <th>Width</th>\n",
       "      <th>Height</th>\n",
       "      <th>Seating Capacity</th>\n",
       "      <th>Fuel Tank Capacity</th>\n",
       "      <th>Power RPM</th>\n",
       "      <th>Torque RPM</th>\n",
       "    </tr>\n",
       "  </thead>\n",
       "  <tbody>\n",
       "    <tr>\n",
       "      <th>0</th>\n",
       "      <td>Honda</td>\n",
       "      <td>Amaze 1.2 VX i-VTEC</td>\n",
       "      <td>505000</td>\n",
       "      <td>2017</td>\n",
       "      <td>87150</td>\n",
       "      <td>Petrol</td>\n",
       "      <td>Manual</td>\n",
       "      <td>Pune</td>\n",
       "      <td>Grey</td>\n",
       "      <td>First</td>\n",
       "      <td>...</td>\n",
       "      <td>87.0</td>\n",
       "      <td>109.0000</td>\n",
       "      <td>FWD</td>\n",
       "      <td>3990.0</td>\n",
       "      <td>1680.0</td>\n",
       "      <td>1505.0</td>\n",
       "      <td>5.0</td>\n",
       "      <td>35.0</td>\n",
       "      <td>6000</td>\n",
       "      <td>4500</td>\n",
       "    </tr>\n",
       "    <tr>\n",
       "      <th>1</th>\n",
       "      <td>Maruti Suzuki</td>\n",
       "      <td>Swift DZire VDI</td>\n",
       "      <td>450000</td>\n",
       "      <td>2014</td>\n",
       "      <td>75000</td>\n",
       "      <td>Diesel</td>\n",
       "      <td>Manual</td>\n",
       "      <td>Ludhiana</td>\n",
       "      <td>White</td>\n",
       "      <td>Second</td>\n",
       "      <td>...</td>\n",
       "      <td>74.0</td>\n",
       "      <td>190.0000</td>\n",
       "      <td>FWD</td>\n",
       "      <td>3995.0</td>\n",
       "      <td>1695.0</td>\n",
       "      <td>1555.0</td>\n",
       "      <td>5.0</td>\n",
       "      <td>42.0</td>\n",
       "      <td>4000</td>\n",
       "      <td>2000</td>\n",
       "    </tr>\n",
       "    <tr>\n",
       "      <th>2</th>\n",
       "      <td>Hyundai</td>\n",
       "      <td>i10 Magna 1.2 Kappa2</td>\n",
       "      <td>220000</td>\n",
       "      <td>2011</td>\n",
       "      <td>67000</td>\n",
       "      <td>Petrol</td>\n",
       "      <td>Manual</td>\n",
       "      <td>Lucknow</td>\n",
       "      <td>Maroon</td>\n",
       "      <td>First</td>\n",
       "      <td>...</td>\n",
       "      <td>79.0</td>\n",
       "      <td>112.7619</td>\n",
       "      <td>FWD</td>\n",
       "      <td>3585.0</td>\n",
       "      <td>1595.0</td>\n",
       "      <td>1550.0</td>\n",
       "      <td>5.0</td>\n",
       "      <td>35.0</td>\n",
       "      <td>6000</td>\n",
       "      <td>4000</td>\n",
       "    </tr>\n",
       "    <tr>\n",
       "      <th>3</th>\n",
       "      <td>Toyota</td>\n",
       "      <td>Glanza G</td>\n",
       "      <td>799000</td>\n",
       "      <td>2019</td>\n",
       "      <td>37500</td>\n",
       "      <td>Petrol</td>\n",
       "      <td>Manual</td>\n",
       "      <td>Mangalore</td>\n",
       "      <td>Red</td>\n",
       "      <td>First</td>\n",
       "      <td>...</td>\n",
       "      <td>82.0</td>\n",
       "      <td>113.0000</td>\n",
       "      <td>FWD</td>\n",
       "      <td>3995.0</td>\n",
       "      <td>1745.0</td>\n",
       "      <td>1510.0</td>\n",
       "      <td>5.0</td>\n",
       "      <td>37.0</td>\n",
       "      <td>6000</td>\n",
       "      <td>4200</td>\n",
       "    </tr>\n",
       "    <tr>\n",
       "      <th>4</th>\n",
       "      <td>Toyota</td>\n",
       "      <td>Innova 2.4 VX 7 STR [2016-2020]</td>\n",
       "      <td>1950000</td>\n",
       "      <td>2018</td>\n",
       "      <td>69000</td>\n",
       "      <td>Diesel</td>\n",
       "      <td>Manual</td>\n",
       "      <td>Mumbai</td>\n",
       "      <td>Grey</td>\n",
       "      <td>First</td>\n",
       "      <td>...</td>\n",
       "      <td>148.0</td>\n",
       "      <td>343.0000</td>\n",
       "      <td>RWD</td>\n",
       "      <td>4735.0</td>\n",
       "      <td>1830.0</td>\n",
       "      <td>1795.0</td>\n",
       "      <td>7.0</td>\n",
       "      <td>55.0</td>\n",
       "      <td>3400</td>\n",
       "      <td>1400</td>\n",
       "    </tr>\n",
       "  </tbody>\n",
       "</table>\n",
       "<p>5 rows × 22 columns</p>\n",
       "</div>"
      ],
      "text/plain": [
       "            Make                            Model    Price  Year  Kilometer  \\\n",
       "0          Honda              Amaze 1.2 VX i-VTEC   505000  2017      87150   \n",
       "1  Maruti Suzuki                  Swift DZire VDI   450000  2014      75000   \n",
       "2        Hyundai             i10 Magna 1.2 Kappa2   220000  2011      67000   \n",
       "3         Toyota                         Glanza G   799000  2019      37500   \n",
       "4         Toyota  Innova 2.4 VX 7 STR [2016-2020]  1950000  2018      69000   \n",
       "\n",
       "  Fuel Type Transmission   Location   Color   Owner  ... Max Power  \\\n",
       "0    Petrol       Manual       Pune    Grey   First  ...      87.0   \n",
       "1    Diesel       Manual   Ludhiana   White  Second  ...      74.0   \n",
       "2    Petrol       Manual    Lucknow  Maroon   First  ...      79.0   \n",
       "3    Petrol       Manual  Mangalore     Red   First  ...      82.0   \n",
       "4    Diesel       Manual     Mumbai    Grey   First  ...     148.0   \n",
       "\n",
       "   Max Torque  Drivetrain  Length   Width  Height  Seating Capacity  \\\n",
       "0    109.0000         FWD  3990.0  1680.0  1505.0               5.0   \n",
       "1    190.0000         FWD  3995.0  1695.0  1555.0               5.0   \n",
       "2    112.7619         FWD  3585.0  1595.0  1550.0               5.0   \n",
       "3    113.0000         FWD  3995.0  1745.0  1510.0               5.0   \n",
       "4    343.0000         RWD  4735.0  1830.0  1795.0               7.0   \n",
       "\n",
       "   Fuel Tank Capacity  Power RPM  Torque RPM  \n",
       "0                35.0       6000        4500  \n",
       "1                42.0       4000        2000  \n",
       "2                35.0       6000        4000  \n",
       "3                37.0       6000        4200  \n",
       "4                55.0       3400        1400  \n",
       "\n",
       "[5 rows x 22 columns]"
      ]
     },
     "execution_count": 44,
     "metadata": {},
     "output_type": "execute_result"
    }
   ],
   "source": [
    "df.head()"
   ]
  },
  {
   "cell_type": "markdown",
   "metadata": {},
   "source": [
    "Dropping Useless Columns (Model,Location)"
   ]
  },
  {
   "cell_type": "code",
   "execution_count": 45,
   "metadata": {},
   "outputs": [],
   "source": [
    "df.drop(['Model','Location','Color'],axis=1,inplace=True)"
   ]
  },
  {
   "cell_type": "code",
   "execution_count": 46,
   "metadata": {},
   "outputs": [
    {
     "data": {
      "text/html": [
       "<div>\n",
       "<style scoped>\n",
       "    .dataframe tbody tr th:only-of-type {\n",
       "        vertical-align: middle;\n",
       "    }\n",
       "\n",
       "    .dataframe tbody tr th {\n",
       "        vertical-align: top;\n",
       "    }\n",
       "\n",
       "    .dataframe thead th {\n",
       "        text-align: right;\n",
       "    }\n",
       "</style>\n",
       "<table border=\"1\" class=\"dataframe\">\n",
       "  <thead>\n",
       "    <tr style=\"text-align: right;\">\n",
       "      <th></th>\n",
       "      <th>Make</th>\n",
       "      <th>Price</th>\n",
       "      <th>Year</th>\n",
       "      <th>Kilometer</th>\n",
       "      <th>Fuel Type</th>\n",
       "      <th>Transmission</th>\n",
       "      <th>Owner</th>\n",
       "      <th>Seller Type</th>\n",
       "      <th>Engine</th>\n",
       "      <th>Max Power</th>\n",
       "      <th>Max Torque</th>\n",
       "      <th>Drivetrain</th>\n",
       "      <th>Length</th>\n",
       "      <th>Width</th>\n",
       "      <th>Height</th>\n",
       "      <th>Seating Capacity</th>\n",
       "      <th>Fuel Tank Capacity</th>\n",
       "      <th>Power RPM</th>\n",
       "      <th>Torque RPM</th>\n",
       "    </tr>\n",
       "  </thead>\n",
       "  <tbody>\n",
       "    <tr>\n",
       "      <th>0</th>\n",
       "      <td>Honda</td>\n",
       "      <td>505000</td>\n",
       "      <td>2017</td>\n",
       "      <td>87150</td>\n",
       "      <td>Petrol</td>\n",
       "      <td>Manual</td>\n",
       "      <td>First</td>\n",
       "      <td>Corporate</td>\n",
       "      <td>1198</td>\n",
       "      <td>87.0</td>\n",
       "      <td>109.0000</td>\n",
       "      <td>FWD</td>\n",
       "      <td>3990.0</td>\n",
       "      <td>1680.0</td>\n",
       "      <td>1505.0</td>\n",
       "      <td>5.0</td>\n",
       "      <td>35.0</td>\n",
       "      <td>6000</td>\n",
       "      <td>4500</td>\n",
       "    </tr>\n",
       "    <tr>\n",
       "      <th>1</th>\n",
       "      <td>Maruti Suzuki</td>\n",
       "      <td>450000</td>\n",
       "      <td>2014</td>\n",
       "      <td>75000</td>\n",
       "      <td>Diesel</td>\n",
       "      <td>Manual</td>\n",
       "      <td>Second</td>\n",
       "      <td>Individual</td>\n",
       "      <td>1248</td>\n",
       "      <td>74.0</td>\n",
       "      <td>190.0000</td>\n",
       "      <td>FWD</td>\n",
       "      <td>3995.0</td>\n",
       "      <td>1695.0</td>\n",
       "      <td>1555.0</td>\n",
       "      <td>5.0</td>\n",
       "      <td>42.0</td>\n",
       "      <td>4000</td>\n",
       "      <td>2000</td>\n",
       "    </tr>\n",
       "    <tr>\n",
       "      <th>2</th>\n",
       "      <td>Hyundai</td>\n",
       "      <td>220000</td>\n",
       "      <td>2011</td>\n",
       "      <td>67000</td>\n",
       "      <td>Petrol</td>\n",
       "      <td>Manual</td>\n",
       "      <td>First</td>\n",
       "      <td>Individual</td>\n",
       "      <td>1197</td>\n",
       "      <td>79.0</td>\n",
       "      <td>112.7619</td>\n",
       "      <td>FWD</td>\n",
       "      <td>3585.0</td>\n",
       "      <td>1595.0</td>\n",
       "      <td>1550.0</td>\n",
       "      <td>5.0</td>\n",
       "      <td>35.0</td>\n",
       "      <td>6000</td>\n",
       "      <td>4000</td>\n",
       "    </tr>\n",
       "    <tr>\n",
       "      <th>3</th>\n",
       "      <td>Toyota</td>\n",
       "      <td>799000</td>\n",
       "      <td>2019</td>\n",
       "      <td>37500</td>\n",
       "      <td>Petrol</td>\n",
       "      <td>Manual</td>\n",
       "      <td>First</td>\n",
       "      <td>Individual</td>\n",
       "      <td>1197</td>\n",
       "      <td>82.0</td>\n",
       "      <td>113.0000</td>\n",
       "      <td>FWD</td>\n",
       "      <td>3995.0</td>\n",
       "      <td>1745.0</td>\n",
       "      <td>1510.0</td>\n",
       "      <td>5.0</td>\n",
       "      <td>37.0</td>\n",
       "      <td>6000</td>\n",
       "      <td>4200</td>\n",
       "    </tr>\n",
       "    <tr>\n",
       "      <th>4</th>\n",
       "      <td>Toyota</td>\n",
       "      <td>1950000</td>\n",
       "      <td>2018</td>\n",
       "      <td>69000</td>\n",
       "      <td>Diesel</td>\n",
       "      <td>Manual</td>\n",
       "      <td>First</td>\n",
       "      <td>Individual</td>\n",
       "      <td>2393</td>\n",
       "      <td>148.0</td>\n",
       "      <td>343.0000</td>\n",
       "      <td>RWD</td>\n",
       "      <td>4735.0</td>\n",
       "      <td>1830.0</td>\n",
       "      <td>1795.0</td>\n",
       "      <td>7.0</td>\n",
       "      <td>55.0</td>\n",
       "      <td>3400</td>\n",
       "      <td>1400</td>\n",
       "    </tr>\n",
       "  </tbody>\n",
       "</table>\n",
       "</div>"
      ],
      "text/plain": [
       "            Make    Price  Year  Kilometer Fuel Type Transmission   Owner  \\\n",
       "0          Honda   505000  2017      87150    Petrol       Manual   First   \n",
       "1  Maruti Suzuki   450000  2014      75000    Diesel       Manual  Second   \n",
       "2        Hyundai   220000  2011      67000    Petrol       Manual   First   \n",
       "3         Toyota   799000  2019      37500    Petrol       Manual   First   \n",
       "4         Toyota  1950000  2018      69000    Diesel       Manual   First   \n",
       "\n",
       "  Seller Type  Engine  Max Power  Max Torque Drivetrain  Length   Width  \\\n",
       "0   Corporate    1198       87.0    109.0000        FWD  3990.0  1680.0   \n",
       "1  Individual    1248       74.0    190.0000        FWD  3995.0  1695.0   \n",
       "2  Individual    1197       79.0    112.7619        FWD  3585.0  1595.0   \n",
       "3  Individual    1197       82.0    113.0000        FWD  3995.0  1745.0   \n",
       "4  Individual    2393      148.0    343.0000        RWD  4735.0  1830.0   \n",
       "\n",
       "   Height  Seating Capacity  Fuel Tank Capacity  Power RPM  Torque RPM  \n",
       "0  1505.0               5.0                35.0       6000        4500  \n",
       "1  1555.0               5.0                42.0       4000        2000  \n",
       "2  1550.0               5.0                35.0       6000        4000  \n",
       "3  1510.0               5.0                37.0       6000        4200  \n",
       "4  1795.0               7.0                55.0       3400        1400  "
      ]
     },
     "execution_count": 46,
     "metadata": {},
     "output_type": "execute_result"
    }
   ],
   "source": [
    "df.head()"
   ]
  },
  {
   "cell_type": "markdown",
   "metadata": {},
   "source": [
    "Renaming Some Columns"
   ]
  },
  {
   "cell_type": "code",
   "execution_count": 47,
   "metadata": {},
   "outputs": [],
   "source": [
    "names = {'Length':'Length(mm)','Width':'Width(mm)','Height':'Height(mm)','Engine':'Engine(CC)','Max Power':'Max Power (bhp)','Max Torque':'Max Torque(nm)','Fuel Tank Capacity':'Fuel Tank Capacity(Litre)'}"
   ]
  },
  {
   "cell_type": "code",
   "execution_count": 48,
   "metadata": {},
   "outputs": [],
   "source": [
    "df.rename(columns=names,inplace=True)"
   ]
  },
  {
   "cell_type": "code",
   "execution_count": 49,
   "metadata": {},
   "outputs": [
    {
     "data": {
      "text/html": [
       "<div>\n",
       "<style scoped>\n",
       "    .dataframe tbody tr th:only-of-type {\n",
       "        vertical-align: middle;\n",
       "    }\n",
       "\n",
       "    .dataframe tbody tr th {\n",
       "        vertical-align: top;\n",
       "    }\n",
       "\n",
       "    .dataframe thead th {\n",
       "        text-align: right;\n",
       "    }\n",
       "</style>\n",
       "<table border=\"1\" class=\"dataframe\">\n",
       "  <thead>\n",
       "    <tr style=\"text-align: right;\">\n",
       "      <th></th>\n",
       "      <th>Make</th>\n",
       "      <th>Price</th>\n",
       "      <th>Year</th>\n",
       "      <th>Kilometer</th>\n",
       "      <th>Fuel Type</th>\n",
       "      <th>Transmission</th>\n",
       "      <th>Owner</th>\n",
       "      <th>Seller Type</th>\n",
       "      <th>Engine(CC)</th>\n",
       "      <th>Max Power (bhp)</th>\n",
       "      <th>Max Torque(nm)</th>\n",
       "      <th>Drivetrain</th>\n",
       "      <th>Length(mm)</th>\n",
       "      <th>Width(mm)</th>\n",
       "      <th>Height(mm)</th>\n",
       "      <th>Seating Capacity</th>\n",
       "      <th>Fuel Tank Capacity(Litre)</th>\n",
       "      <th>Power RPM</th>\n",
       "      <th>Torque RPM</th>\n",
       "    </tr>\n",
       "  </thead>\n",
       "  <tbody>\n",
       "    <tr>\n",
       "      <th>0</th>\n",
       "      <td>Honda</td>\n",
       "      <td>505000</td>\n",
       "      <td>2017</td>\n",
       "      <td>87150</td>\n",
       "      <td>Petrol</td>\n",
       "      <td>Manual</td>\n",
       "      <td>First</td>\n",
       "      <td>Corporate</td>\n",
       "      <td>1198</td>\n",
       "      <td>87.0</td>\n",
       "      <td>109.0000</td>\n",
       "      <td>FWD</td>\n",
       "      <td>3990.0</td>\n",
       "      <td>1680.0</td>\n",
       "      <td>1505.0</td>\n",
       "      <td>5.0</td>\n",
       "      <td>35.0</td>\n",
       "      <td>6000</td>\n",
       "      <td>4500</td>\n",
       "    </tr>\n",
       "    <tr>\n",
       "      <th>1</th>\n",
       "      <td>Maruti Suzuki</td>\n",
       "      <td>450000</td>\n",
       "      <td>2014</td>\n",
       "      <td>75000</td>\n",
       "      <td>Diesel</td>\n",
       "      <td>Manual</td>\n",
       "      <td>Second</td>\n",
       "      <td>Individual</td>\n",
       "      <td>1248</td>\n",
       "      <td>74.0</td>\n",
       "      <td>190.0000</td>\n",
       "      <td>FWD</td>\n",
       "      <td>3995.0</td>\n",
       "      <td>1695.0</td>\n",
       "      <td>1555.0</td>\n",
       "      <td>5.0</td>\n",
       "      <td>42.0</td>\n",
       "      <td>4000</td>\n",
       "      <td>2000</td>\n",
       "    </tr>\n",
       "    <tr>\n",
       "      <th>2</th>\n",
       "      <td>Hyundai</td>\n",
       "      <td>220000</td>\n",
       "      <td>2011</td>\n",
       "      <td>67000</td>\n",
       "      <td>Petrol</td>\n",
       "      <td>Manual</td>\n",
       "      <td>First</td>\n",
       "      <td>Individual</td>\n",
       "      <td>1197</td>\n",
       "      <td>79.0</td>\n",
       "      <td>112.7619</td>\n",
       "      <td>FWD</td>\n",
       "      <td>3585.0</td>\n",
       "      <td>1595.0</td>\n",
       "      <td>1550.0</td>\n",
       "      <td>5.0</td>\n",
       "      <td>35.0</td>\n",
       "      <td>6000</td>\n",
       "      <td>4000</td>\n",
       "    </tr>\n",
       "    <tr>\n",
       "      <th>3</th>\n",
       "      <td>Toyota</td>\n",
       "      <td>799000</td>\n",
       "      <td>2019</td>\n",
       "      <td>37500</td>\n",
       "      <td>Petrol</td>\n",
       "      <td>Manual</td>\n",
       "      <td>First</td>\n",
       "      <td>Individual</td>\n",
       "      <td>1197</td>\n",
       "      <td>82.0</td>\n",
       "      <td>113.0000</td>\n",
       "      <td>FWD</td>\n",
       "      <td>3995.0</td>\n",
       "      <td>1745.0</td>\n",
       "      <td>1510.0</td>\n",
       "      <td>5.0</td>\n",
       "      <td>37.0</td>\n",
       "      <td>6000</td>\n",
       "      <td>4200</td>\n",
       "    </tr>\n",
       "    <tr>\n",
       "      <th>4</th>\n",
       "      <td>Toyota</td>\n",
       "      <td>1950000</td>\n",
       "      <td>2018</td>\n",
       "      <td>69000</td>\n",
       "      <td>Diesel</td>\n",
       "      <td>Manual</td>\n",
       "      <td>First</td>\n",
       "      <td>Individual</td>\n",
       "      <td>2393</td>\n",
       "      <td>148.0</td>\n",
       "      <td>343.0000</td>\n",
       "      <td>RWD</td>\n",
       "      <td>4735.0</td>\n",
       "      <td>1830.0</td>\n",
       "      <td>1795.0</td>\n",
       "      <td>7.0</td>\n",
       "      <td>55.0</td>\n",
       "      <td>3400</td>\n",
       "      <td>1400</td>\n",
       "    </tr>\n",
       "  </tbody>\n",
       "</table>\n",
       "</div>"
      ],
      "text/plain": [
       "            Make    Price  Year  Kilometer Fuel Type Transmission   Owner  \\\n",
       "0          Honda   505000  2017      87150    Petrol       Manual   First   \n",
       "1  Maruti Suzuki   450000  2014      75000    Diesel       Manual  Second   \n",
       "2        Hyundai   220000  2011      67000    Petrol       Manual   First   \n",
       "3         Toyota   799000  2019      37500    Petrol       Manual   First   \n",
       "4         Toyota  1950000  2018      69000    Diesel       Manual   First   \n",
       "\n",
       "  Seller Type  Engine(CC)  Max Power (bhp)  Max Torque(nm) Drivetrain  \\\n",
       "0   Corporate        1198             87.0        109.0000        FWD   \n",
       "1  Individual        1248             74.0        190.0000        FWD   \n",
       "2  Individual        1197             79.0        112.7619        FWD   \n",
       "3  Individual        1197             82.0        113.0000        FWD   \n",
       "4  Individual        2393            148.0        343.0000        RWD   \n",
       "\n",
       "   Length(mm)  Width(mm)  Height(mm)  Seating Capacity  \\\n",
       "0      3990.0     1680.0      1505.0               5.0   \n",
       "1      3995.0     1695.0      1555.0               5.0   \n",
       "2      3585.0     1595.0      1550.0               5.0   \n",
       "3      3995.0     1745.0      1510.0               5.0   \n",
       "4      4735.0     1830.0      1795.0               7.0   \n",
       "\n",
       "   Fuel Tank Capacity(Litre)  Power RPM  Torque RPM  \n",
       "0                       35.0       6000        4500  \n",
       "1                       42.0       4000        2000  \n",
       "2                       35.0       6000        4000  \n",
       "3                       37.0       6000        4200  \n",
       "4                       55.0       3400        1400  "
      ]
     },
     "execution_count": 49,
     "metadata": {},
     "output_type": "execute_result"
    }
   ],
   "source": [
    "df.head()"
   ]
  },
  {
   "cell_type": "markdown",
   "metadata": {},
   "source": [
    "Now Our Dataset is Clean so performing Some EDA"
   ]
  },
  {
   "cell_type": "markdown",
   "metadata": {},
   "source": [
    "checking correlation"
   ]
  },
  {
   "cell_type": "code",
   "execution_count": 50,
   "metadata": {},
   "outputs": [
    {
     "data": {
      "text/html": [
       "<div>\n",
       "<style scoped>\n",
       "    .dataframe tbody tr th:only-of-type {\n",
       "        vertical-align: middle;\n",
       "    }\n",
       "\n",
       "    .dataframe tbody tr th {\n",
       "        vertical-align: top;\n",
       "    }\n",
       "\n",
       "    .dataframe thead th {\n",
       "        text-align: right;\n",
       "    }\n",
       "</style>\n",
       "<table border=\"1\" class=\"dataframe\">\n",
       "  <thead>\n",
       "    <tr style=\"text-align: right;\">\n",
       "      <th></th>\n",
       "      <th>Price</th>\n",
       "      <th>Year</th>\n",
       "      <th>Kilometer</th>\n",
       "      <th>Engine(CC)</th>\n",
       "      <th>Max Power (bhp)</th>\n",
       "      <th>Max Torque(nm)</th>\n",
       "      <th>Length(mm)</th>\n",
       "      <th>Width(mm)</th>\n",
       "      <th>Height(mm)</th>\n",
       "      <th>Seating Capacity</th>\n",
       "      <th>Fuel Tank Capacity(Litre)</th>\n",
       "      <th>Power RPM</th>\n",
       "      <th>Torque RPM</th>\n",
       "    </tr>\n",
       "  </thead>\n",
       "  <tbody>\n",
       "    <tr>\n",
       "      <th>Price</th>\n",
       "      <td>1.000000</td>\n",
       "      <td>0.309329</td>\n",
       "      <td>-0.147259</td>\n",
       "      <td>0.609337</td>\n",
       "      <td>0.776964</td>\n",
       "      <td>0.676682</td>\n",
       "      <td>0.568834</td>\n",
       "      <td>0.577104</td>\n",
       "      <td>0.092620</td>\n",
       "      <td>-0.025096</td>\n",
       "      <td>0.585937</td>\n",
       "      <td>-0.210859</td>\n",
       "      <td>-0.332824</td>\n",
       "    </tr>\n",
       "    <tr>\n",
       "      <th>Year</th>\n",
       "      <td>0.309329</td>\n",
       "      <td>1.000000</td>\n",
       "      <td>-0.291801</td>\n",
       "      <td>-0.019074</td>\n",
       "      <td>0.099751</td>\n",
       "      <td>0.091077</td>\n",
       "      <td>0.084592</td>\n",
       "      <td>0.181641</td>\n",
       "      <td>0.126615</td>\n",
       "      <td>-0.000202</td>\n",
       "      <td>0.044514</td>\n",
       "      <td>-0.047122</td>\n",
       "      <td>-0.120195</td>\n",
       "    </tr>\n",
       "    <tr>\n",
       "      <th>Kilometer</th>\n",
       "      <td>-0.147259</td>\n",
       "      <td>-0.291801</td>\n",
       "      <td>1.000000</td>\n",
       "      <td>0.056096</td>\n",
       "      <td>-0.032864</td>\n",
       "      <td>0.040386</td>\n",
       "      <td>0.037980</td>\n",
       "      <td>0.008585</td>\n",
       "      <td>0.085796</td>\n",
       "      <td>0.111139</td>\n",
       "      <td>0.052539</td>\n",
       "      <td>-0.154176</td>\n",
       "      <td>-0.086443</td>\n",
       "    </tr>\n",
       "    <tr>\n",
       "      <th>Engine(CC)</th>\n",
       "      <td>0.609337</td>\n",
       "      <td>-0.019074</td>\n",
       "      <td>0.056096</td>\n",
       "      <td>1.000000</td>\n",
       "      <td>0.870671</td>\n",
       "      <td>0.855904</td>\n",
       "      <td>0.799542</td>\n",
       "      <td>0.713940</td>\n",
       "      <td>0.351034</td>\n",
       "      <td>0.341595</td>\n",
       "      <td>0.798663</td>\n",
       "      <td>-0.449305</td>\n",
       "      <td>-0.446845</td>\n",
       "    </tr>\n",
       "    <tr>\n",
       "      <th>Max Power (bhp)</th>\n",
       "      <td>0.776964</td>\n",
       "      <td>0.099751</td>\n",
       "      <td>-0.032864</td>\n",
       "      <td>0.870671</td>\n",
       "      <td>1.000000</td>\n",
       "      <td>0.880184</td>\n",
       "      <td>0.800544</td>\n",
       "      <td>0.745044</td>\n",
       "      <td>0.124599</td>\n",
       "      <td>0.071114</td>\n",
       "      <td>0.775764</td>\n",
       "      <td>-0.295155</td>\n",
       "      <td>-0.423506</td>\n",
       "    </tr>\n",
       "    <tr>\n",
       "      <th>Max Torque(nm)</th>\n",
       "      <td>0.676682</td>\n",
       "      <td>0.091077</td>\n",
       "      <td>0.040386</td>\n",
       "      <td>0.855904</td>\n",
       "      <td>0.880184</td>\n",
       "      <td>1.000000</td>\n",
       "      <td>0.823228</td>\n",
       "      <td>0.820244</td>\n",
       "      <td>0.294437</td>\n",
       "      <td>0.235193</td>\n",
       "      <td>0.852914</td>\n",
       "      <td>-0.649066</td>\n",
       "      <td>-0.667591</td>\n",
       "    </tr>\n",
       "    <tr>\n",
       "      <th>Length(mm)</th>\n",
       "      <td>0.568834</td>\n",
       "      <td>0.084592</td>\n",
       "      <td>0.037980</td>\n",
       "      <td>0.799542</td>\n",
       "      <td>0.800544</td>\n",
       "      <td>0.823228</td>\n",
       "      <td>1.000000</td>\n",
       "      <td>0.796743</td>\n",
       "      <td>0.193865</td>\n",
       "      <td>0.298365</td>\n",
       "      <td>0.809706</td>\n",
       "      <td>-0.465215</td>\n",
       "      <td>-0.477838</td>\n",
       "    </tr>\n",
       "    <tr>\n",
       "      <th>Width(mm)</th>\n",
       "      <td>0.577104</td>\n",
       "      <td>0.181641</td>\n",
       "      <td>0.008585</td>\n",
       "      <td>0.713940</td>\n",
       "      <td>0.745044</td>\n",
       "      <td>0.820244</td>\n",
       "      <td>0.796743</td>\n",
       "      <td>1.000000</td>\n",
       "      <td>0.326337</td>\n",
       "      <td>0.228843</td>\n",
       "      <td>0.791213</td>\n",
       "      <td>-0.510876</td>\n",
       "      <td>-0.520562</td>\n",
       "    </tr>\n",
       "    <tr>\n",
       "      <th>Height(mm)</th>\n",
       "      <td>0.092620</td>\n",
       "      <td>0.126615</td>\n",
       "      <td>0.085796</td>\n",
       "      <td>0.351034</td>\n",
       "      <td>0.124599</td>\n",
       "      <td>0.294437</td>\n",
       "      <td>0.193865</td>\n",
       "      <td>0.326337</td>\n",
       "      <td>1.000000</td>\n",
       "      <td>0.695340</td>\n",
       "      <td>0.408335</td>\n",
       "      <td>-0.369027</td>\n",
       "      <td>-0.313837</td>\n",
       "    </tr>\n",
       "    <tr>\n",
       "      <th>Seating Capacity</th>\n",
       "      <td>-0.025096</td>\n",
       "      <td>-0.000202</td>\n",
       "      <td>0.111139</td>\n",
       "      <td>0.341595</td>\n",
       "      <td>0.071114</td>\n",
       "      <td>0.235193</td>\n",
       "      <td>0.298365</td>\n",
       "      <td>0.228843</td>\n",
       "      <td>0.695340</td>\n",
       "      <td>1.000000</td>\n",
       "      <td>0.313743</td>\n",
       "      <td>-0.366521</td>\n",
       "      <td>-0.249518</td>\n",
       "    </tr>\n",
       "    <tr>\n",
       "      <th>Fuel Tank Capacity(Litre)</th>\n",
       "      <td>0.585937</td>\n",
       "      <td>0.044514</td>\n",
       "      <td>0.052539</td>\n",
       "      <td>0.798663</td>\n",
       "      <td>0.775764</td>\n",
       "      <td>0.852914</td>\n",
       "      <td>0.809706</td>\n",
       "      <td>0.791213</td>\n",
       "      <td>0.408335</td>\n",
       "      <td>0.313743</td>\n",
       "      <td>1.000000</td>\n",
       "      <td>-0.507581</td>\n",
       "      <td>-0.523451</td>\n",
       "    </tr>\n",
       "    <tr>\n",
       "      <th>Power RPM</th>\n",
       "      <td>-0.210859</td>\n",
       "      <td>-0.047122</td>\n",
       "      <td>-0.154176</td>\n",
       "      <td>-0.449305</td>\n",
       "      <td>-0.295155</td>\n",
       "      <td>-0.649066</td>\n",
       "      <td>-0.465215</td>\n",
       "      <td>-0.510876</td>\n",
       "      <td>-0.369027</td>\n",
       "      <td>-0.366521</td>\n",
       "      <td>-0.507581</td>\n",
       "      <td>1.000000</td>\n",
       "      <td>0.844927</td>\n",
       "    </tr>\n",
       "    <tr>\n",
       "      <th>Torque RPM</th>\n",
       "      <td>-0.332824</td>\n",
       "      <td>-0.120195</td>\n",
       "      <td>-0.086443</td>\n",
       "      <td>-0.446845</td>\n",
       "      <td>-0.423506</td>\n",
       "      <td>-0.667591</td>\n",
       "      <td>-0.477838</td>\n",
       "      <td>-0.520562</td>\n",
       "      <td>-0.313837</td>\n",
       "      <td>-0.249518</td>\n",
       "      <td>-0.523451</td>\n",
       "      <td>0.844927</td>\n",
       "      <td>1.000000</td>\n",
       "    </tr>\n",
       "  </tbody>\n",
       "</table>\n",
       "</div>"
      ],
      "text/plain": [
       "                              Price      Year  Kilometer  Engine(CC)  \\\n",
       "Price                      1.000000  0.309329  -0.147259    0.609337   \n",
       "Year                       0.309329  1.000000  -0.291801   -0.019074   \n",
       "Kilometer                 -0.147259 -0.291801   1.000000    0.056096   \n",
       "Engine(CC)                 0.609337 -0.019074   0.056096    1.000000   \n",
       "Max Power (bhp)            0.776964  0.099751  -0.032864    0.870671   \n",
       "Max Torque(nm)             0.676682  0.091077   0.040386    0.855904   \n",
       "Length(mm)                 0.568834  0.084592   0.037980    0.799542   \n",
       "Width(mm)                  0.577104  0.181641   0.008585    0.713940   \n",
       "Height(mm)                 0.092620  0.126615   0.085796    0.351034   \n",
       "Seating Capacity          -0.025096 -0.000202   0.111139    0.341595   \n",
       "Fuel Tank Capacity(Litre)  0.585937  0.044514   0.052539    0.798663   \n",
       "Power RPM                 -0.210859 -0.047122  -0.154176   -0.449305   \n",
       "Torque RPM                -0.332824 -0.120195  -0.086443   -0.446845   \n",
       "\n",
       "                           Max Power (bhp)  Max Torque(nm)  Length(mm)  \\\n",
       "Price                             0.776964        0.676682    0.568834   \n",
       "Year                              0.099751        0.091077    0.084592   \n",
       "Kilometer                        -0.032864        0.040386    0.037980   \n",
       "Engine(CC)                        0.870671        0.855904    0.799542   \n",
       "Max Power (bhp)                   1.000000        0.880184    0.800544   \n",
       "Max Torque(nm)                    0.880184        1.000000    0.823228   \n",
       "Length(mm)                        0.800544        0.823228    1.000000   \n",
       "Width(mm)                         0.745044        0.820244    0.796743   \n",
       "Height(mm)                        0.124599        0.294437    0.193865   \n",
       "Seating Capacity                  0.071114        0.235193    0.298365   \n",
       "Fuel Tank Capacity(Litre)         0.775764        0.852914    0.809706   \n",
       "Power RPM                        -0.295155       -0.649066   -0.465215   \n",
       "Torque RPM                       -0.423506       -0.667591   -0.477838   \n",
       "\n",
       "                           Width(mm)  Height(mm)  Seating Capacity  \\\n",
       "Price                       0.577104    0.092620         -0.025096   \n",
       "Year                        0.181641    0.126615         -0.000202   \n",
       "Kilometer                   0.008585    0.085796          0.111139   \n",
       "Engine(CC)                  0.713940    0.351034          0.341595   \n",
       "Max Power (bhp)             0.745044    0.124599          0.071114   \n",
       "Max Torque(nm)              0.820244    0.294437          0.235193   \n",
       "Length(mm)                  0.796743    0.193865          0.298365   \n",
       "Width(mm)                   1.000000    0.326337          0.228843   \n",
       "Height(mm)                  0.326337    1.000000          0.695340   \n",
       "Seating Capacity            0.228843    0.695340          1.000000   \n",
       "Fuel Tank Capacity(Litre)   0.791213    0.408335          0.313743   \n",
       "Power RPM                  -0.510876   -0.369027         -0.366521   \n",
       "Torque RPM                 -0.520562   -0.313837         -0.249518   \n",
       "\n",
       "                           Fuel Tank Capacity(Litre)  Power RPM  Torque RPM  \n",
       "Price                                       0.585937  -0.210859   -0.332824  \n",
       "Year                                        0.044514  -0.047122   -0.120195  \n",
       "Kilometer                                   0.052539  -0.154176   -0.086443  \n",
       "Engine(CC)                                  0.798663  -0.449305   -0.446845  \n",
       "Max Power (bhp)                             0.775764  -0.295155   -0.423506  \n",
       "Max Torque(nm)                              0.852914  -0.649066   -0.667591  \n",
       "Length(mm)                                  0.809706  -0.465215   -0.477838  \n",
       "Width(mm)                                   0.791213  -0.510876   -0.520562  \n",
       "Height(mm)                                  0.408335  -0.369027   -0.313837  \n",
       "Seating Capacity                            0.313743  -0.366521   -0.249518  \n",
       "Fuel Tank Capacity(Litre)                   1.000000  -0.507581   -0.523451  \n",
       "Power RPM                                  -0.507581   1.000000    0.844927  \n",
       "Torque RPM                                 -0.523451   0.844927    1.000000  "
      ]
     },
     "execution_count": 50,
     "metadata": {},
     "output_type": "execute_result"
    }
   ],
   "source": [
    "df.corr(numeric_only=True)"
   ]
  },
  {
   "cell_type": "code",
   "execution_count": 51,
   "metadata": {},
   "outputs": [
    {
     "data": {
      "image/png": "[encoded data removed]",
      "text/plain": [
       "<Figure size 640x480 with 1 Axes>"
      ]
     },
     "metadata": {},
     "output_type": "display_data"
    }
   ],
   "source": [
    "sn.scatterplot(data=df,x='Engine(CC)',y='Price')\n",
    "plt.show()"
   ]
  },
  {
   "cell_type": "code",
   "execution_count": 52,
   "metadata": {},
   "outputs": [
    {
     "data": {
      "image/png": "[encoded data removed]",
      "text/plain": [
       "<Figure size 640x480 with 1 Axes>"
      ]
     },
     "metadata": {},
     "output_type": "display_data"
    }
   ],
   "source": [
    "sn.scatterplot(data=df,x='Max Power (bhp)',y='Price')\n",
    "plt.show()"
   ]
  },
  {
   "cell_type": "code",
   "execution_count": 53,
   "metadata": {},
   "outputs": [
    {
     "data": {
      "image/png": "[encoded data removed]",
      "text/plain": [
       "<Figure size 640x480 with 1 Axes>"
      ]
     },
     "metadata": {},
     "output_type": "display_data"
    }
   ],
   "source": [
    "sn.scatterplot(data=df,x='Length(mm)',y='Price')\n",
    "plt.show()"
   ]
  },
  {
   "cell_type": "code",
   "execution_count": 54,
   "metadata": {},
   "outputs": [
    {
     "data": {
      "image/png": "[encoded data removed]",
      "text/plain": [
       "<Figure size 640x480 with 1 Axes>"
      ]
     },
     "metadata": {},
     "output_type": "display_data"
    }
   ],
   "source": [
    "sn.scatterplot(data=df,x='Width(mm)',y='Price')\n",
    "plt.show()"
   ]
  },
  {
   "cell_type": "code",
   "execution_count": 55,
   "metadata": {},
   "outputs": [
    {
     "data": {
      "image/png": "[encoded data removed]",
      "text/plain": [
       "<Figure size 640x480 with 1 Axes>"
      ]
     },
     "metadata": {},
     "output_type": "display_data"
    }
   ],
   "source": [
    "sn.scatterplot(data=df,x='Height(mm)',y='Price')\n",
    "plt.show()"
   ]
  },
  {
   "cell_type": "code",
   "execution_count": 56,
   "metadata": {},
   "outputs": [
    {
     "data": {
      "image/png": "[encoded data removed]",
      "text/plain": [
       "<Figure size 640x480 with 1 Axes>"
      ]
     },
     "metadata": {},
     "output_type": "display_data"
    }
   ],
   "source": [
    "sn.scatterplot(data=df,x='Seating Capacity',y='Price')\n",
    "plt.show()"
   ]
  },
  {
   "cell_type": "code",
   "execution_count": 57,
   "metadata": {},
   "outputs": [
    {
     "data": {
      "image/png": "[encoded data removed]",
      "text/plain": [
       "<Figure size 1000x500 with 1 Axes>"
      ]
     },
     "metadata": {},
     "output_type": "display_data"
    }
   ],
   "source": [
    "plt.figure(figsize=(10,5))\n",
    "plt.bar(data=df,x='Fuel Type',height='Price',)\n",
    "plt.show()"
   ]
  },
  {
   "cell_type": "code",
   "execution_count": 58,
   "metadata": {},
   "outputs": [
    {
     "data": {
      "image/png": "[encoded data removed]",
      "text/plain": [
       "<Figure size 1000x500 with 1 Axes>"
      ]
     },
     "metadata": {},
     "output_type": "display_data"
    }
   ],
   "source": [
    "plt.figure(figsize=(10,5))\n",
    "plt.bar(data=df,x='Transmission',height='Price')\n",
    "plt.show()"
   ]
  },
  {
   "cell_type": "code",
   "execution_count": 59,
   "metadata": {},
   "outputs": [
    {
     "data": {
      "image/png": "[encoded data removed]",
      "text/plain": [
       "<Figure size 1000x500 with 1 Axes>"
      ]
     },
     "metadata": {},
     "output_type": "display_data"
    }
   ],
   "source": [
    "plt.figure(figsize=(10,5))\n",
    "plt.bar(data=df,x='Owner',height='Price')\n",
    "plt.show()"
   ]
  },
  {
   "cell_type": "code",
   "execution_count": 60,
   "metadata": {},
   "outputs": [
    {
     "data": {
      "image/png": "[encoded data removed]",
      "text/plain": [
       "<Figure size 1000x500 with 1 Axes>"
      ]
     },
     "metadata": {},
     "output_type": "display_data"
    }
   ],
   "source": [
    "plt.figure(figsize=(10,5))\n",
    "plt.bar(data=df,x='Seller Type',height='Price')\n",
    "plt.show()"
   ]
  },
  {
   "cell_type": "code",
   "execution_count": 61,
   "metadata": {},
   "outputs": [
    {
     "name": "stderr",
     "output_type": "stream",
     "text": [
      "C:\\Users\\meetn\\AppData\\Local\\Temp\\ipykernel_2724\\2162858153.py:1: UserWarning: \n",
      "\n",
      "`distplot` is a deprecated function and will be removed in seaborn v0.14.0.\n",
      "\n",
      "Please adapt your code to use either `displot` (a figure-level function with\n",
      "similar flexibility) or `histplot` (an axes-level function for histograms).\n",
      "\n",
      "For a guide to updating your code to use the new functions, please see\n",
      "https://gist.github.com/mwaskom/de44147ed2974457ad6372750bbe5751\n",
      "\n",
      "  sn.distplot(df['Price'])\n",
      "c:\\Users\\meetn\\AppData\\Local\\Programs\\Python\\Python311\\Lib\\site-packages\\seaborn\\_oldcore.py:1119: FutureWarning: use_inf_as_na option is deprecated and will be removed in a future version. Convert inf values to NaN before operating instead.\n",
      "  with pd.option_context('mode.use_inf_as_na', True):\n"
     ]
    },
    {
     "data": {
      "text/plain": [
       "<Axes: xlabel='Price', ylabel='Density'>"
      ]
     },
     "execution_count": 61,
     "metadata": {},
     "output_type": "execute_result"
    },
    {
     "data": {
      "image/png": "[encoded data removed]",
      "text/plain": [
       "<Figure size 640x480 with 1 Axes>"
      ]
     },
     "metadata": {},
     "output_type": "display_data"
    }
   ],
   "source": [
    "sn.distplot(df['Price'])"
   ]
  },
  {
   "cell_type": "markdown",
   "metadata": {},
   "source": [
    "So our Price Column is Skewed for fixing that"
   ]
  },
  {
   "cell_type": "code",
   "execution_count": 62,
   "metadata": {},
   "outputs": [
    {
     "name": "stderr",
     "output_type": "stream",
     "text": [
      "C:\\Users\\meetn\\AppData\\Local\\Temp\\ipykernel_2724\\589762661.py:1: UserWarning: \n",
      "\n",
      "`distplot` is a deprecated function and will be removed in seaborn v0.14.0.\n",
      "\n",
      "Please adapt your code to use either `displot` (a figure-level function with\n",
      "similar flexibility) or `histplot` (an axes-level function for histograms).\n",
      "\n",
      "For a guide to updating your code to use the new functions, please see\n",
      "https://gist.github.com/mwaskom/de44147ed2974457ad6372750bbe5751\n",
      "\n",
      "  sn.distplot(np.log(df['Price']))\n",
      "c:\\Users\\meetn\\AppData\\Local\\Programs\\Python\\Python311\\Lib\\site-packages\\seaborn\\_oldcore.py:1119: FutureWarning: use_inf_as_na option is deprecated and will be removed in a future version. Convert inf values to NaN before operating instead.\n",
      "  with pd.option_context('mode.use_inf_as_na', True):\n"
     ]
    },
    {
     "data": {
      "text/plain": [
       "<Axes: xlabel='Price', ylabel='Density'>"
      ]
     },
     "execution_count": 62,
     "metadata": {},
     "output_type": "execute_result"
    },
    {
     "data": {
      "image/png": "[encoded data removed]",
      "text/plain": [
       "<Figure size 640x480 with 1 Axes>"
      ]
     },
     "metadata": {},
     "output_type": "display_data"
    }
   ],
   "source": [
    "sn.distplot(np.log(df['Price']))"
   ]
  },
  {
   "cell_type": "markdown",
   "metadata": {},
   "source": [
    "# Model Training"
   ]
  },
  {
   "cell_type": "code",
   "execution_count": 63,
   "metadata": {},
   "outputs": [],
   "source": [
    "x = df.drop('Price',axis=1)\n",
    "y = np.log(df['Price'])"
   ]
  },
  {
   "cell_type": "code",
   "execution_count": 64,
   "metadata": {},
   "outputs": [
    {
     "data": {
      "text/html": [
       "<div>\n",
       "<style scoped>\n",
       "    .dataframe tbody tr th:only-of-type {\n",
       "        vertical-align: middle;\n",
       "    }\n",
       "\n",
       "    .dataframe tbody tr th {\n",
       "        vertical-align: top;\n",
       "    }\n",
       "\n",
       "    .dataframe thead th {\n",
       "        text-align: right;\n",
       "    }\n",
       "</style>\n",
       "<table border=\"1\" class=\"dataframe\">\n",
       "  <thead>\n",
       "    <tr style=\"text-align: right;\">\n",
       "      <th></th>\n",
       "      <th>Make</th>\n",
       "      <th>Year</th>\n",
       "      <th>Kilometer</th>\n",
       "      <th>Fuel Type</th>\n",
       "      <th>Transmission</th>\n",
       "      <th>Owner</th>\n",
       "      <th>Seller Type</th>\n",
       "      <th>Engine(CC)</th>\n",
       "      <th>Max Power (bhp)</th>\n",
       "      <th>Max Torque(nm)</th>\n",
       "      <th>Drivetrain</th>\n",
       "      <th>Length(mm)</th>\n",
       "      <th>Width(mm)</th>\n",
       "      <th>Height(mm)</th>\n",
       "      <th>Seating Capacity</th>\n",
       "      <th>Fuel Tank Capacity(Litre)</th>\n",
       "      <th>Power RPM</th>\n",
       "      <th>Torque RPM</th>\n",
       "    </tr>\n",
       "  </thead>\n",
       "  <tbody>\n",
       "    <tr>\n",
       "      <th>0</th>\n",
       "      <td>Honda</td>\n",
       "      <td>2017</td>\n",
       "      <td>87150</td>\n",
       "      <td>Petrol</td>\n",
       "      <td>Manual</td>\n",
       "      <td>First</td>\n",
       "      <td>Corporate</td>\n",
       "      <td>1198</td>\n",
       "      <td>87.0</td>\n",
       "      <td>109.0000</td>\n",
       "      <td>FWD</td>\n",
       "      <td>3990.0</td>\n",
       "      <td>1680.0</td>\n",
       "      <td>1505.0</td>\n",
       "      <td>5.0</td>\n",
       "      <td>35.0</td>\n",
       "      <td>6000</td>\n",
       "      <td>4500</td>\n",
       "    </tr>\n",
       "    <tr>\n",
       "      <th>1</th>\n",
       "      <td>Maruti Suzuki</td>\n",
       "      <td>2014</td>\n",
       "      <td>75000</td>\n",
       "      <td>Diesel</td>\n",
       "      <td>Manual</td>\n",
       "      <td>Second</td>\n",
       "      <td>Individual</td>\n",
       "      <td>1248</td>\n",
       "      <td>74.0</td>\n",
       "      <td>190.0000</td>\n",
       "      <td>FWD</td>\n",
       "      <td>3995.0</td>\n",
       "      <td>1695.0</td>\n",
       "      <td>1555.0</td>\n",
       "      <td>5.0</td>\n",
       "      <td>42.0</td>\n",
       "      <td>4000</td>\n",
       "      <td>2000</td>\n",
       "    </tr>\n",
       "    <tr>\n",
       "      <th>2</th>\n",
       "      <td>Hyundai</td>\n",
       "      <td>2011</td>\n",
       "      <td>67000</td>\n",
       "      <td>Petrol</td>\n",
       "      <td>Manual</td>\n",
       "      <td>First</td>\n",
       "      <td>Individual</td>\n",
       "      <td>1197</td>\n",
       "      <td>79.0</td>\n",
       "      <td>112.7619</td>\n",
       "      <td>FWD</td>\n",
       "      <td>3585.0</td>\n",
       "      <td>1595.0</td>\n",
       "      <td>1550.0</td>\n",
       "      <td>5.0</td>\n",
       "      <td>35.0</td>\n",
       "      <td>6000</td>\n",
       "      <td>4000</td>\n",
       "    </tr>\n",
       "    <tr>\n",
       "      <th>3</th>\n",
       "      <td>Toyota</td>\n",
       "      <td>2019</td>\n",
       "      <td>37500</td>\n",
       "      <td>Petrol</td>\n",
       "      <td>Manual</td>\n",
       "      <td>First</td>\n",
       "      <td>Individual</td>\n",
       "      <td>1197</td>\n",
       "      <td>82.0</td>\n",
       "      <td>113.0000</td>\n",
       "      <td>FWD</td>\n",
       "      <td>3995.0</td>\n",
       "      <td>1745.0</td>\n",
       "      <td>1510.0</td>\n",
       "      <td>5.0</td>\n",
       "      <td>37.0</td>\n",
       "      <td>6000</td>\n",
       "      <td>4200</td>\n",
       "    </tr>\n",
       "    <tr>\n",
       "      <th>4</th>\n",
       "      <td>Toyota</td>\n",
       "      <td>2018</td>\n",
       "      <td>69000</td>\n",
       "      <td>Diesel</td>\n",
       "      <td>Manual</td>\n",
       "      <td>First</td>\n",
       "      <td>Individual</td>\n",
       "      <td>2393</td>\n",
       "      <td>148.0</td>\n",
       "      <td>343.0000</td>\n",
       "      <td>RWD</td>\n",
       "      <td>4735.0</td>\n",
       "      <td>1830.0</td>\n",
       "      <td>1795.0</td>\n",
       "      <td>7.0</td>\n",
       "      <td>55.0</td>\n",
       "      <td>3400</td>\n",
       "      <td>1400</td>\n",
       "    </tr>\n",
       "  </tbody>\n",
       "</table>\n",
       "</div>"
      ],
      "text/plain": [
       "            Make  Year  Kilometer Fuel Type Transmission   Owner Seller Type  \\\n",
       "0          Honda  2017      87150    Petrol       Manual   First   Corporate   \n",
       "1  Maruti Suzuki  2014      75000    Diesel       Manual  Second  Individual   \n",
       "2        Hyundai  2011      67000    Petrol       Manual   First  Individual   \n",
       "3         Toyota  2019      37500    Petrol       Manual   First  Individual   \n",
       "4         Toyota  2018      69000    Diesel       Manual   First  Individual   \n",
       "\n",
       "   Engine(CC)  Max Power (bhp)  Max Torque(nm) Drivetrain  Length(mm)  \\\n",
       "0        1198             87.0        109.0000        FWD      3990.0   \n",
       "1        1248             74.0        190.0000        FWD      3995.0   \n",
       "2        1197             79.0        112.7619        FWD      3585.0   \n",
       "3        1197             82.0        113.0000        FWD      3995.0   \n",
       "4        2393            148.0        343.0000        RWD      4735.0   \n",
       "\n",
       "   Width(mm)  Height(mm)  Seating Capacity  Fuel Tank Capacity(Litre)  \\\n",
       "0     1680.0      1505.0               5.0                       35.0   \n",
       "1     1695.0      1555.0               5.0                       42.0   \n",
       "2     1595.0      1550.0               5.0                       35.0   \n",
       "3     1745.0      1510.0               5.0                       37.0   \n",
       "4     1830.0      1795.0               7.0                       55.0   \n",
       "\n",
       "   Power RPM  Torque RPM  \n",
       "0       6000        4500  \n",
       "1       4000        2000  \n",
       "2       6000        4000  \n",
       "3       6000        4200  \n",
       "4       3400        1400  "
      ]
     },
     "execution_count": 64,
     "metadata": {},
     "output_type": "execute_result"
    }
   ],
   "source": [
    "x.head()"
   ]
  },
  {
   "cell_type": "markdown",
   "metadata": {},
   "source": [
    "Importing Librarires"
   ]
  },
  {
   "cell_type": "code",
   "execution_count": 68,
   "metadata": {},
   "outputs": [],
   "source": [
    "from sklearn.linear_model import LinearRegression\n",
    "from sklearn.preprocessing import OneHotEncoder\n",
    "from sklearn.model_selection import train_test_split,cross_val_score\n",
    "from sklearn.neighbors import KNeighborsRegressor\n",
    "from sklearn.tree import DecisionTreeRegressor\n",
    "from sklearn.ensemble import RandomForestRegressor\n",
    "from sklearn.compose import ColumnTransformer\n",
    "from sklearn.pipeline import Pipeline\n",
    "from sklearn.metrics import r2_score,mean_absolute_error"
   ]
  },
  {
   "cell_type": "markdown",
   "metadata": {},
   "source": [
    "Splitting Dataset into Train Test"
   ]
  },
  {
   "cell_type": "code",
   "execution_count": 66,
   "metadata": {},
   "outputs": [],
   "source": [
    "x_train,x_test,y_train,y_test = train_test_split(x,y,test_size=0.3,random_state=50)"
   ]
  },
  {
   "cell_type": "markdown",
   "metadata": {},
   "source": [
    "Linear Regression"
   ]
  },
  {
   "cell_type": "code",
   "execution_count": 67,
   "metadata": {},
   "outputs": [
    {
     "name": "stderr",
     "output_type": "stream",
     "text": [
      "c:\\Users\\meetn\\AppData\\Local\\Programs\\Python\\Python311\\Lib\\site-packages\\sklearn\\preprocessing\\_encoders.py:975: FutureWarning: `sparse` was renamed to `sparse_output` in version 1.2 and will be removed in 1.4. `sparse_output` is ignored unless you leave `sparse` to its default value.\n",
      "  warnings.warn(\n",
      "c:\\Users\\meetn\\AppData\\Local\\Programs\\Python\\Python311\\Lib\\site-packages\\sklearn\\preprocessing\\_encoders.py:975: FutureWarning: `sparse` was renamed to `sparse_output` in version 1.2 and will be removed in 1.4. `sparse_output` is ignored unless you leave `sparse` to its default value.\n",
      "  warnings.warn(\n",
      "c:\\Users\\meetn\\AppData\\Local\\Programs\\Python\\Python311\\Lib\\site-packages\\sklearn\\preprocessing\\_encoders.py:975: FutureWarning: `sparse` was renamed to `sparse_output` in version 1.2 and will be removed in 1.4. `sparse_output` is ignored unless you leave `sparse` to its default value.\n",
      "  warnings.warn(\n",
      "c:\\Users\\meetn\\AppData\\Local\\Programs\\Python\\Python311\\Lib\\site-packages\\sklearn\\preprocessing\\_encoders.py:975: FutureWarning: `sparse` was renamed to `sparse_output` in version 1.2 and will be removed in 1.4. `sparse_output` is ignored unless you leave `sparse` to its default value.\n",
      "  warnings.warn(\n",
      "c:\\Users\\meetn\\AppData\\Local\\Programs\\Python\\Python311\\Lib\\site-packages\\sklearn\\preprocessing\\_encoders.py:975: FutureWarning: `sparse` was renamed to `sparse_output` in version 1.2 and will be removed in 1.4. `sparse_output` is ignored unless you leave `sparse` to its default value.\n",
      "  warnings.warn(\n",
      "c:\\Users\\meetn\\AppData\\Local\\Programs\\Python\\Python311\\Lib\\site-packages\\sklearn\\preprocessing\\_encoders.py:975: FutureWarning: `sparse` was renamed to `sparse_output` in version 1.2 and will be removed in 1.4. `sparse_output` is ignored unless you leave `sparse` to its default value.\n",
      "  warnings.warn(\n",
      "c:\\Users\\meetn\\AppData\\Local\\Programs\\Python\\Python311\\Lib\\site-packages\\sklearn\\preprocessing\\_encoders.py:975: FutureWarning: `sparse` was renamed to `sparse_output` in version 1.2 and will be removed in 1.4. `sparse_output` is ignored unless you leave `sparse` to its default value.\n",
      "  warnings.warn(\n",
      "c:\\Users\\meetn\\AppData\\Local\\Programs\\Python\\Python311\\Lib\\site-packages\\sklearn\\preprocessing\\_encoders.py:975: FutureWarning: `sparse` was renamed to `sparse_output` in version 1.2 and will be removed in 1.4. `sparse_output` is ignored unless you leave `sparse` to its default value.\n",
      "  warnings.warn(\n"
     ]
    },
    {
     "name": "stdout",
     "output_type": "stream",
     "text": [
      "R2 Score 0.9231893517084173\n",
      "MAR 0.17579112288629217\n"
     ]
    },
    {
     "name": "stdout",
     "output_type": "stream",
     "text": [
      "Cross Val Score Average: 0.9310037743525191\n"
     ]
    },
    {
     "name": "stderr",
     "output_type": "stream",
     "text": [
      "c:\\Users\\meetn\\AppData\\Local\\Programs\\Python\\Python311\\Lib\\site-packages\\sklearn\\preprocessing\\_encoders.py:975: FutureWarning: `sparse` was renamed to `sparse_output` in version 1.2 and will be removed in 1.4. `sparse_output` is ignored unless you leave `sparse` to its default value.\n",
      "  warnings.warn(\n",
      "c:\\Users\\meetn\\AppData\\Local\\Programs\\Python\\Python311\\Lib\\site-packages\\sklearn\\preprocessing\\_encoders.py:975: FutureWarning: `sparse` was renamed to `sparse_output` in version 1.2 and will be removed in 1.4. `sparse_output` is ignored unless you leave `sparse` to its default value.\n",
      "  warnings.warn(\n",
      "c:\\Users\\meetn\\AppData\\Local\\Programs\\Python\\Python311\\Lib\\site-packages\\sklearn\\preprocessing\\_encoders.py:975: FutureWarning: `sparse` was renamed to `sparse_output` in version 1.2 and will be removed in 1.4. `sparse_output` is ignored unless you leave `sparse` to its default value.\n",
      "  warnings.warn(\n"
     ]
    }
   ],
   "source": [
    "step1 = ColumnTransformer(transformers=[('col_tnf',OneHotEncoder(sparse=False,drop='first'),[0,3,4,5,6,10])],remainder='passthrough')\n",
    "\n",
    "step2 = LinearRegression()\n",
    "\n",
    "pipe_linear = Pipeline([('step1',step1),('step2',step2)])\n",
    "\n",
    "pipe_linear.fit(x_train,y_train)\n",
    "\n",
    "y_predict = pipe_linear.predict(x_test)\n",
    "\n",
    "print('R2 Score',r2_score(y_test,y_predict))\n",
    "print('MAR',mean_absolute_error(y_test,y_predict))\n",
    "\n",
    "linear_score =cross_val_score(estimator=pipe_linear,X=x,y=y,cv=10)\n",
    "\n",
    "print(f'Cross Val Score Average: {linear_score.mean()}')"
   ]
  },
  {
   "cell_type": "markdown",
   "metadata": {},
   "source": [
    "K-Nearest Neighbors Score"
   ]
  },
  {
   "cell_type": "code",
   "execution_count": 71,
   "metadata": {},
   "outputs": [
    {
     "name": "stderr",
     "output_type": "stream",
     "text": [
      "c:\\Users\\meetn\\AppData\\Local\\Programs\\Python\\Python311\\Lib\\site-packages\\sklearn\\preprocessing\\_encoders.py:975: FutureWarning: `sparse` was renamed to `sparse_output` in version 1.2 and will be removed in 1.4. `sparse_output` is ignored unless you leave `sparse` to its default value.\n",
      "  warnings.warn(\n",
      "c:\\Users\\meetn\\AppData\\Local\\Programs\\Python\\Python311\\Lib\\site-packages\\sklearn\\preprocessing\\_encoders.py:975: FutureWarning: `sparse` was renamed to `sparse_output` in version 1.2 and will be removed in 1.4. `sparse_output` is ignored unless you leave `sparse` to its default value.\n",
      "  warnings.warn(\n",
      "c:\\Users\\meetn\\AppData\\Local\\Programs\\Python\\Python311\\Lib\\site-packages\\sklearn\\preprocessing\\_encoders.py:975: FutureWarning: `sparse` was renamed to `sparse_output` in version 1.2 and will be removed in 1.4. `sparse_output` is ignored unless you leave `sparse` to its default value.\n",
      "  warnings.warn(\n",
      "c:\\Users\\meetn\\AppData\\Local\\Programs\\Python\\Python311\\Lib\\site-packages\\sklearn\\preprocessing\\_encoders.py:975: FutureWarning: `sparse` was renamed to `sparse_output` in version 1.2 and will be removed in 1.4. `sparse_output` is ignored unless you leave `sparse` to its default value.\n",
      "  warnings.warn(\n",
      "c:\\Users\\meetn\\AppData\\Local\\Programs\\Python\\Python311\\Lib\\site-packages\\sklearn\\preprocessing\\_encoders.py:975: FutureWarning: `sparse` was renamed to `sparse_output` in version 1.2 and will be removed in 1.4. `sparse_output` is ignored unless you leave `sparse` to its default value.\n",
      "  warnings.warn(\n",
      "c:\\Users\\meetn\\AppData\\Local\\Programs\\Python\\Python311\\Lib\\site-packages\\sklearn\\preprocessing\\_encoders.py:975: FutureWarning: `sparse` was renamed to `sparse_output` in version 1.2 and will be removed in 1.4. `sparse_output` is ignored unless you leave `sparse` to its default value.\n",
      "  warnings.warn(\n",
      "c:\\Users\\meetn\\AppData\\Local\\Programs\\Python\\Python311\\Lib\\site-packages\\sklearn\\preprocessing\\_encoders.py:975: FutureWarning: `sparse` was renamed to `sparse_output` in version 1.2 and will be removed in 1.4. `sparse_output` is ignored unless you leave `sparse` to its default value.\n",
      "  warnings.warn(\n",
      "c:\\Users\\meetn\\AppData\\Local\\Programs\\Python\\Python311\\Lib\\site-packages\\sklearn\\preprocessing\\_encoders.py:975: FutureWarning: `sparse` was renamed to `sparse_output` in version 1.2 and will be removed in 1.4. `sparse_output` is ignored unless you leave `sparse` to its default value.\n",
      "  warnings.warn(\n",
      "c:\\Users\\meetn\\AppData\\Local\\Programs\\Python\\Python311\\Lib\\site-packages\\sklearn\\preprocessing\\_encoders.py:975: FutureWarning: `sparse` was renamed to `sparse_output` in version 1.2 and will be removed in 1.4. `sparse_output` is ignored unless you leave `sparse` to its default value.\n",
      "  warnings.warn(\n"
     ]
    },
    {
     "name": "stdout",
     "output_type": "stream",
     "text": [
      "R2 Score 0.6025329110957278\n",
      "MAR 0.46162183189360956\n",
      "Cross Val Score Average: 0.6306601506477024\n"
     ]
    },
    {
     "name": "stderr",
     "output_type": "stream",
     "text": [
      "c:\\Users\\meetn\\AppData\\Local\\Programs\\Python\\Python311\\Lib\\site-packages\\sklearn\\preprocessing\\_encoders.py:975: FutureWarning: `sparse` was renamed to `sparse_output` in version 1.2 and will be removed in 1.4. `sparse_output` is ignored unless you leave `sparse` to its default value.\n",
      "  warnings.warn(\n",
      "c:\\Users\\meetn\\AppData\\Local\\Programs\\Python\\Python311\\Lib\\site-packages\\sklearn\\preprocessing\\_encoders.py:975: FutureWarning: `sparse` was renamed to `sparse_output` in version 1.2 and will be removed in 1.4. `sparse_output` is ignored unless you leave `sparse` to its default value.\n",
      "  warnings.warn(\n"
     ]
    }
   ],
   "source": [
    "step1 = ColumnTransformer(transformers=[('col_tnf',OneHotEncoder(sparse=False,drop='first'),[0,3,4,5,6,10])],remainder='passthrough')\n",
    "\n",
    "step2 = KNeighborsRegressor(n_neighbors=10)\n",
    "\n",
    "pipe_neighbors = Pipeline([('step1',step1),('step2',step2)])\n",
    "\n",
    "pipe_neighbors.fit(x_train,y_train)\n",
    "\n",
    "y_predict = pipe_neighbors.predict(x_test)\n",
    "\n",
    "print('R2 Score',r2_score(y_test,y_predict))\n",
    "print('MAR',mean_absolute_error(y_test,y_predict))\n",
    "\n",
    "neigbors_score =cross_val_score(estimator=pipe_neighbors,X=x,y=y,cv=10)\n",
    "\n",
    "print(f'Cross Val Score Average: {neigbors_score.mean()}')"
   ]
  },
  {
   "cell_type": "markdown",
   "metadata": {},
   "source": [
    "Decision Tree"
   ]
  },
  {
   "cell_type": "code",
   "execution_count": 72,
   "metadata": {},
   "outputs": [
    {
     "name": "stderr",
     "output_type": "stream",
     "text": [
      "c:\\Users\\meetn\\AppData\\Local\\Programs\\Python\\Python311\\Lib\\site-packages\\sklearn\\preprocessing\\_encoders.py:975: FutureWarning: `sparse` was renamed to `sparse_output` in version 1.2 and will be removed in 1.4. `sparse_output` is ignored unless you leave `sparse` to its default value.\n",
      "  warnings.warn(\n",
      "c:\\Users\\meetn\\AppData\\Local\\Programs\\Python\\Python311\\Lib\\site-packages\\sklearn\\preprocessing\\_encoders.py:975: FutureWarning: `sparse` was renamed to `sparse_output` in version 1.2 and will be removed in 1.4. `sparse_output` is ignored unless you leave `sparse` to its default value.\n",
      "  warnings.warn(\n",
      "c:\\Users\\meetn\\AppData\\Local\\Programs\\Python\\Python311\\Lib\\site-packages\\sklearn\\preprocessing\\_encoders.py:975: FutureWarning: `sparse` was renamed to `sparse_output` in version 1.2 and will be removed in 1.4. `sparse_output` is ignored unless you leave `sparse` to its default value.\n",
      "  warnings.warn(\n",
      "c:\\Users\\meetn\\AppData\\Local\\Programs\\Python\\Python311\\Lib\\site-packages\\sklearn\\preprocessing\\_encoders.py:975: FutureWarning: `sparse` was renamed to `sparse_output` in version 1.2 and will be removed in 1.4. `sparse_output` is ignored unless you leave `sparse` to its default value.\n",
      "  warnings.warn(\n",
      "c:\\Users\\meetn\\AppData\\Local\\Programs\\Python\\Python311\\Lib\\site-packages\\sklearn\\preprocessing\\_encoders.py:975: FutureWarning: `sparse` was renamed to `sparse_output` in version 1.2 and will be removed in 1.4. `sparse_output` is ignored unless you leave `sparse` to its default value.\n",
      "  warnings.warn(\n",
      "c:\\Users\\meetn\\AppData\\Local\\Programs\\Python\\Python311\\Lib\\site-packages\\sklearn\\preprocessing\\_encoders.py:975: FutureWarning: `sparse` was renamed to `sparse_output` in version 1.2 and will be removed in 1.4. `sparse_output` is ignored unless you leave `sparse` to its default value.\n",
      "  warnings.warn(\n"
     ]
    },
    {
     "name": "stdout",
     "output_type": "stream",
     "text": [
      "R2 Score 0.9276507187538591\n",
      "MAR 0.18126636686643766\n",
      "Cross Val Score Average: 0.9079309134218201\n"
     ]
    },
    {
     "name": "stderr",
     "output_type": "stream",
     "text": [
      "c:\\Users\\meetn\\AppData\\Local\\Programs\\Python\\Python311\\Lib\\site-packages\\sklearn\\preprocessing\\_encoders.py:975: FutureWarning: `sparse` was renamed to `sparse_output` in version 1.2 and will be removed in 1.4. `sparse_output` is ignored unless you leave `sparse` to its default value.\n",
      "  warnings.warn(\n",
      "c:\\Users\\meetn\\AppData\\Local\\Programs\\Python\\Python311\\Lib\\site-packages\\sklearn\\preprocessing\\_encoders.py:975: FutureWarning: `sparse` was renamed to `sparse_output` in version 1.2 and will be removed in 1.4. `sparse_output` is ignored unless you leave `sparse` to its default value.\n",
      "  warnings.warn(\n",
      "c:\\Users\\meetn\\AppData\\Local\\Programs\\Python\\Python311\\Lib\\site-packages\\sklearn\\preprocessing\\_encoders.py:975: FutureWarning: `sparse` was renamed to `sparse_output` in version 1.2 and will be removed in 1.4. `sparse_output` is ignored unless you leave `sparse` to its default value.\n",
      "  warnings.warn(\n",
      "c:\\Users\\meetn\\AppData\\Local\\Programs\\Python\\Python311\\Lib\\site-packages\\sklearn\\preprocessing\\_encoders.py:975: FutureWarning: `sparse` was renamed to `sparse_output` in version 1.2 and will be removed in 1.4. `sparse_output` is ignored unless you leave `sparse` to its default value.\n",
      "  warnings.warn(\n",
      "c:\\Users\\meetn\\AppData\\Local\\Programs\\Python\\Python311\\Lib\\site-packages\\sklearn\\preprocessing\\_encoders.py:975: FutureWarning: `sparse` was renamed to `sparse_output` in version 1.2 and will be removed in 1.4. `sparse_output` is ignored unless you leave `sparse` to its default value.\n",
      "  warnings.warn(\n"
     ]
    }
   ],
   "source": [
    "step1 = ColumnTransformer(transformers=[('col_tnf',OneHotEncoder(sparse=False,drop='first'),[0,3,4,5,6,10])],remainder='passthrough')\n",
    "\n",
    "step2 = DecisionTreeRegressor()\n",
    "\n",
    "pipe_tree = Pipeline([('step1',step1),('step2',step2)])\n",
    "\n",
    "pipe_tree.fit(x_train,y_train)\n",
    "\n",
    "y_predict = pipe_tree.predict(x_test)\n",
    "\n",
    "print('R2 Score',r2_score(y_test,y_predict))\n",
    "print('MAR',mean_absolute_error(y_test,y_predict))\n",
    "\n",
    "tree_score =cross_val_score(estimator=pipe_tree,X=x,y=y,cv=10)\n",
    "\n",
    "print(f'Cross Val Score Average: {tree_score.mean()}')"
   ]
  },
  {
   "cell_type": "markdown",
   "metadata": {},
   "source": [
    "Random Forest"
   ]
  },
  {
   "cell_type": "code",
   "execution_count": 73,
   "metadata": {},
   "outputs": [
    {
     "name": "stderr",
     "output_type": "stream",
     "text": [
      "c:\\Users\\meetn\\AppData\\Local\\Programs\\Python\\Python311\\Lib\\site-packages\\sklearn\\preprocessing\\_encoders.py:975: FutureWarning: `sparse` was renamed to `sparse_output` in version 1.2 and will be removed in 1.4. `sparse_output` is ignored unless you leave `sparse` to its default value.\n",
      "  warnings.warn(\n"
     ]
    },
    {
     "name": "stdout",
     "output_type": "stream",
     "text": [
      "R2 Score 0.9514320682231794\n",
      "MAR 0.1437785313833349\n"
     ]
    },
    {
     "name": "stderr",
     "output_type": "stream",
     "text": [
      "c:\\Users\\meetn\\AppData\\Local\\Programs\\Python\\Python311\\Lib\\site-packages\\sklearn\\preprocessing\\_encoders.py:975: FutureWarning: `sparse` was renamed to `sparse_output` in version 1.2 and will be removed in 1.4. `sparse_output` is ignored unless you leave `sparse` to its default value.\n",
      "  warnings.warn(\n",
      "c:\\Users\\meetn\\AppData\\Local\\Programs\\Python\\Python311\\Lib\\site-packages\\sklearn\\preprocessing\\_encoders.py:975: FutureWarning: `sparse` was renamed to `sparse_output` in version 1.2 and will be removed in 1.4. `sparse_output` is ignored unless you leave `sparse` to its default value.\n",
      "  warnings.warn(\n",
      "c:\\Users\\meetn\\AppData\\Local\\Programs\\Python\\Python311\\Lib\\site-packages\\sklearn\\preprocessing\\_encoders.py:975: FutureWarning: `sparse` was renamed to `sparse_output` in version 1.2 and will be removed in 1.4. `sparse_output` is ignored unless you leave `sparse` to its default value.\n",
      "  warnings.warn(\n",
      "c:\\Users\\meetn\\AppData\\Local\\Programs\\Python\\Python311\\Lib\\site-packages\\sklearn\\preprocessing\\_encoders.py:975: FutureWarning: `sparse` was renamed to `sparse_output` in version 1.2 and will be removed in 1.4. `sparse_output` is ignored unless you leave `sparse` to its default value.\n",
      "  warnings.warn(\n",
      "c:\\Users\\meetn\\AppData\\Local\\Programs\\Python\\Python311\\Lib\\site-packages\\sklearn\\preprocessing\\_encoders.py:975: FutureWarning: `sparse` was renamed to `sparse_output` in version 1.2 and will be removed in 1.4. `sparse_output` is ignored unless you leave `sparse` to its default value.\n",
      "  warnings.warn(\n",
      "c:\\Users\\meetn\\AppData\\Local\\Programs\\Python\\Python311\\Lib\\site-packages\\sklearn\\preprocessing\\_encoders.py:975: FutureWarning: `sparse` was renamed to `sparse_output` in version 1.2 and will be removed in 1.4. `sparse_output` is ignored unless you leave `sparse` to its default value.\n",
      "  warnings.warn(\n",
      "c:\\Users\\meetn\\AppData\\Local\\Programs\\Python\\Python311\\Lib\\site-packages\\sklearn\\preprocessing\\_encoders.py:975: FutureWarning: `sparse` was renamed to `sparse_output` in version 1.2 and will be removed in 1.4. `sparse_output` is ignored unless you leave `sparse` to its default value.\n",
      "  warnings.warn(\n",
      "c:\\Users\\meetn\\AppData\\Local\\Programs\\Python\\Python311\\Lib\\site-packages\\sklearn\\preprocessing\\_encoders.py:975: FutureWarning: `sparse` was renamed to `sparse_output` in version 1.2 and will be removed in 1.4. `sparse_output` is ignored unless you leave `sparse` to its default value.\n",
      "  warnings.warn(\n",
      "c:\\Users\\meetn\\AppData\\Local\\Programs\\Python\\Python311\\Lib\\site-packages\\sklearn\\preprocessing\\_encoders.py:975: FutureWarning: `sparse` was renamed to `sparse_output` in version 1.2 and will be removed in 1.4. `sparse_output` is ignored unless you leave `sparse` to its default value.\n",
      "  warnings.warn(\n",
      "c:\\Users\\meetn\\AppData\\Local\\Programs\\Python\\Python311\\Lib\\site-packages\\sklearn\\preprocessing\\_encoders.py:975: FutureWarning: `sparse` was renamed to `sparse_output` in version 1.2 and will be removed in 1.4. `sparse_output` is ignored unless you leave `sparse` to its default value.\n",
      "  warnings.warn(\n"
     ]
    },
    {
     "name": "stdout",
     "output_type": "stream",
     "text": [
      "Cross Val Score Average: 0.95052706282051\n"
     ]
    }
   ],
   "source": [
    "step1 = ColumnTransformer(transformers=[('col_tnf',OneHotEncoder(sparse=False,drop='first'),[0,3,4,5,6,10])],remainder='passthrough')\n",
    "\n",
    "step2 = RandomForestRegressor(n_estimators=200)\n",
    "\n",
    "pipe_forest = Pipeline([('step1',step1),('step2',step2)])\n",
    "\n",
    "pipe_forest.fit(x_train,y_train)\n",
    "\n",
    "y_predict = pipe_forest.predict(x_test)\n",
    "\n",
    "print('R2 Score',r2_score(y_test,y_predict))\n",
    "print('MAR',mean_absolute_error(y_test,y_predict))\n",
    "\n",
    "forest_score =cross_val_score(estimator=pipe_forest,X=x,y=y,cv=10)\n",
    "\n",
    "print(f'Cross Val Score Average: {forest_score.mean()}')"
   ]
  },
  {
   "cell_type": "markdown",
   "metadata": {},
   "source": [
    "So we will be using Random Forest "
   ]
  },
  {
   "cell_type": "markdown",
   "metadata": {},
   "source": [
    "Exporting Model"
   ]
  },
  {
   "cell_type": "code",
   "execution_count": 75,
   "metadata": {},
   "outputs": [],
   "source": [
    "import pickle\n",
    "\n",
    "#exporting model\n",
    "pickle.dump(pipe_forest,open('model.pkl','wb'))\n",
    "\n",
    "#exporting dataset\n",
    "pickle.dump(df,open('data.pkl','wb'))"
   ]
  },
  {
   "cell_type": "code",
   "execution_count": null,
   "metadata": {},
   "outputs": [],
   "source": []
  }
 ],
 "metadata": {
  "kernelspec": {
   "display_name": "Python 3",
   "language": "python",
   "name": "python3"
  },
  "language_info": {
   "codemirror_mode": {
    "name": "ipython",
    "version": 3
   },
   "file_extension": ".py",
   "mimetype": "text/x-python",
   "name": "python",
   "nbconvert_exporter": "python",
   "pygments_lexer": "ipython3",
   "version": "3.11.4"
  }
 },
 "nbformat": 4,
 "nbformat_minor": 2
}
